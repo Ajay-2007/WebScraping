{
 "cells": [
  {
   "cell_type": "code",
   "execution_count": 1,
   "metadata": {
    "collapsed": true,
    "pycharm": {
     "is_executing": false
    }
   },
   "outputs": [],
   "source": [
    "import requests\n",
    "from fake_useragent import UserAgent\n",
    "\n",
    "url = 'https://www.consumerreports.org/cro/a-to-z-index/products/index.htm' # input url here\n",
    "file_name = 'consumer_reports.txt'  # output file name\n",
    "\n",
    "user_agent = UserAgent()\n",
    "\n",
    "page = requests.get(url, headers={'user-agent': user_agent.chrome})\n",
    "\n",
    "with open(file_name, 'w') as file:\n",
    "    file.write(page.content.decode('utf-8')) if type(page.content) == bytes else file.write(page.content)"
   ]
  },
  {
   "cell_type": "code",
   "execution_count": 3,
   "outputs": [],
   "source": [
    "from bs4 import BeautifulSoup\n",
    "\n",
    "with open('consumer_reports.txt') as file:\n",
    "    data = file.read()\n",
    "\n",
    "\n",
    "soup = BeautifulSoup(data, 'lxml')"
   ],
   "metadata": {
    "collapsed": false,
    "pycharm": {
     "name": "#%%\n",
     "is_executing": false
    }
   }
  },
  {
   "cell_type": "code",
   "execution_count": 4,
   "outputs": [
    {
     "name": "stdout",
     "text": [
      "<div class=\"crux-body-copy\">\n",
      "<a class=\"products-a-z__results__item\" href=\"/cro/air-conditioners.htm\">\n",
      "Air Conditioners\n",
      "</a>\n",
      "</div>\n",
      "<div class=\"crux-body-copy\">\n",
      "<a class=\"products-a-z__results__item\" href=\"/cro/air-filters.htm\">\n",
      "Air Filters\n",
      "</a>\n",
      "</div>\n",
      "<div class=\"crux-body-copy\">\n",
      "<a class=\"products-a-z__results__item\" href=\"/cro/air-fryers.htm\">\n",
      "Air Fryers\n",
      "</a>\n",
      "</div>\n",
      "<div class=\"crux-body-copy\">\n",
      "<a class=\"products-a-z__results__item\" href=\"/cro/air-mattresses.htm\">\n",
      "Air Mattresses\n",
      "</a>\n",
      "</div>\n",
      "<div class=\"crux-body-copy\">\n",
      "<a class=\"products-a-z__results__item\" href=\"/cro/air-purifiers.htm\">\n",
      "Air Purifiers\n",
      "</a>\n",
      "</div>\n"
     ],
     "output_type": "stream"
    }
   ],
   "source": [
    "all_divs = soup.find_all('div', attrs={'class': 'crux-body-copy'})\n",
    "\n",
    "for div in all_divs[:5]:\n",
    "    print(div)"
   ],
   "metadata": {
    "collapsed": false,
    "pycharm": {
     "name": "#%%\n",
     "is_executing": false
    }
   }
  },
  {
   "cell_type": "code",
   "execution_count": 6,
   "outputs": [
    {
     "name": "stdout",
     "text": [
      "\n",
      "Air Conditioners\n",
      "\n",
      "\n",
      "Air Filters\n",
      "\n",
      "\n",
      "Air Fryers\n",
      "\n",
      "\n",
      "Air Mattresses\n",
      "\n",
      "\n",
      "Air Purifiers\n",
      "\n"
     ],
     "output_type": "stream"
    }
   ],
   "source": [
    "for div in all_divs[:5]:\n",
    "    print(div.a.string)"
   ],
   "metadata": {
    "collapsed": false,
    "pycharm": {
     "name": "#%%\n",
     "is_executing": false
    }
   }
  },
  {
   "cell_type": "code",
   "execution_count": 7,
   "outputs": [],
   "source": [
    "products = [div.a.string for div in all_divs]\n",
    "\n"
   ],
   "metadata": {
    "collapsed": false,
    "pycharm": {
     "name": "#%%\n",
     "is_executing": false
    }
   }
  },
  {
   "cell_type": "code",
   "execution_count": 8,
   "outputs": [
    {
     "name": "stdout",
     "text": [
      "\n",
      "Air Conditioners\n",
      "\n",
      "\n",
      "Air Filters\n",
      "\n",
      "\n",
      "Air Fryers\n",
      "\n",
      "\n",
      "Air Mattresses\n",
      "\n",
      "\n",
      "Air Purifiers\n",
      "\n"
     ],
     "output_type": "stream"
    }
   ],
   "source": [
    "for product in products[:5]:\n",
    "    print(product)"
   ],
   "metadata": {
    "collapsed": false,
    "pycharm": {
     "name": "#%%\n",
     "is_executing": false
    }
   }
  },
  {
   "cell_type": "code",
   "execution_count": 9,
   "outputs": [],
   "source": [
    "product_names = [div.a.string for div in soup.find_all('div', attrs={'class': 'crux-body-copy'})]"
   ],
   "metadata": {
    "collapsed": false,
    "pycharm": {
     "name": "#%%\n",
     "is_executing": false
    }
   }
  },
  {
   "cell_type": "code",
   "execution_count": 10,
   "outputs": [
    {
     "name": "stdout",
     "text": [
      "\n",
      "Air Conditioners\n",
      "\n",
      "\n",
      "Air Filters\n",
      "\n",
      "\n",
      "Air Fryers\n",
      "\n",
      "\n",
      "Air Mattresses\n",
      "\n",
      "\n",
      "Air Purifiers\n",
      "\n"
     ],
     "output_type": "stream"
    }
   ],
   "source": [
    "for product in product_names[:5]:\n",
    "    print(product)"
   ],
   "metadata": {
    "collapsed": false,
    "pycharm": {
     "name": "#%%\n",
     "is_executing": false
    }
   }
  },
  {
   "cell_type": "code",
   "execution_count": 11,
   "outputs": [
    {
     "name": "stdout",
     "text": [
      "https://www.consumerreports.org/cro/air-conditioners.htm\n",
      "https://www.consumerreports.org/cro/air-filters.htm\n",
      "https://www.consumerreports.org/cro/air-fryers.htm\n",
      "https://www.consumerreports.org/cro/air-mattresses.htm\n",
      "https://www.consumerreports.org/cro/air-purifiers.htm\n"
     ],
     "output_type": "stream"
    }
   ],
   "source": [
    "prev_link = 'https://www.consumerreports.org'\n",
    "\n",
    "product_links = [prev_link + div.a.get('href') for div in soup.find_all('div', attrs={'class': 'crux-body-copy'})]\n",
    "\n",
    "for product_link in product_links[:5]:\n",
    "    print(product_link)"
   ],
   "metadata": {
    "collapsed": false,
    "pycharm": {
     "name": "#%%\n",
     "is_executing": false
    }
   }
  },
  {
   "cell_type": "code",
   "execution_count": 12,
   "outputs": [],
   "source": [
    "products = {div.a.string : prev_link + div.a.get('href') for div in soup.find_all('div', class_='crux-body-copy')}\n"
   ],
   "metadata": {
    "collapsed": false,
    "pycharm": {
     "name": "#%%\n",
     "is_executing": false
    }
   }
  },
  {
   "cell_type": "code",
   "execution_count": 17,
   "outputs": [
    {
     "name": "stdout",
     "text": [
      "\n",
      "Air Conditioners\n",
      " https://www.consumerreports.org/cro/air-conditioners.htm\n",
      "\n",
      "Air Filters\n",
      " https://www.consumerreports.org/cro/air-filters.htm\n",
      "\n",
      "Air Fryers\n",
      " https://www.consumerreports.org/cro/air-fryers.htm\n",
      "\n",
      "Air Mattresses\n",
      " https://www.consumerreports.org/cro/air-mattresses.htm\n",
      "\n",
      "Air Purifiers\n",
      " https://www.consumerreports.org/cro/air-purifiers.htm\n"
     ],
     "output_type": "stream"
    }
   ],
   "source": [
    "i = 0\n",
    "for product_name, link in products.items():\n",
    "    if i < 5:\n",
    "        print(product_name, link)\n",
    "        i += 1     "
   ],
   "metadata": {
    "collapsed": false,
    "pycharm": {
     "name": "#%%\n",
     "is_executing": false
    }
   }
  },
  {
   "cell_type": "code",
   "execution_count": 18,
   "outputs": [],
   "source": [
    "\n",
    "\n"
   ],
   "metadata": {
    "collapsed": false,
    "pycharm": {
     "name": "#%%\n",
     "is_executing": false
    }
   }
  },
  {
   "cell_type": "code",
   "execution_count": null,
   "outputs": [],
   "source": [
    "\n"
   ],
   "metadata": {
    "collapsed": false,
    "pycharm": {
     "name": "#%%\n"
    }
   }
  }
 ],
 "metadata": {
  "kernelspec": {
   "display_name": "Python 3",
   "language": "python",
   "name": "python3"
  },
  "language_info": {
   "codemirror_mode": {
    "name": "ipython",
    "version": 2
   },
   "file_extension": ".py",
   "mimetype": "text/x-python",
   "name": "python",
   "nbconvert_exporter": "python",
   "pygments_lexer": "ipython2",
   "version": "2.7.6"
  },
  "pycharm": {
   "stem_cell": {
    "cell_type": "raw",
    "source": [],
    "metadata": {
     "collapsed": false
    }
   }
  }
 },
 "nbformat": 4,
 "nbformat_minor": 0
}