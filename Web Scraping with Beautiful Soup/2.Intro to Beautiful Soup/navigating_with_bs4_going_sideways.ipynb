{
 "cells": [
  {
   "cell_type": "markdown",
   "metadata": {
    "collapsed": true,
    "pycharm": {
     "name": "#%% md\n"
    }
   },
   "source": [
    "Navigating with Beautiful Soup doing sideways"
   ]
  },
  {
   "cell_type": "code",
   "execution_count": 1,
   "outputs": [],
   "source": [
    "from bs4 import BeautifulSoup\n",
    "\n",
    "with open('024 three-sisters.html') as file:\n",
    "    data = file.read()\n",
    "\n",
    "\n"
   ],
   "metadata": {
    "collapsed": false,
    "pycharm": {
     "name": "#%%\n",
     "is_executing": false
    }
   }
  },
  {
   "cell_type": "code",
   "execution_count": 2,
   "outputs": [
    {
     "name": "stdout",
     "text": [
      "<p class=\"title\">\n",
      "<b>\n",
      "                The Dormouse's story\n",
      "            </b>\n",
      "</p>\n"
     ],
     "output_type": "stream"
    }
   ],
   "source": [
    "soup = BeautifulSoup(data, 'lxml')\n",
    "print(soup.body.p)"
   ],
   "metadata": {
    "collapsed": false,
    "pycharm": {
     "name": "#%%\n",
     "is_executing": false
    }
   }
  },
  {
   "cell_type": "code",
   "execution_count": 3,
   "outputs": [],
   "source": [
    "body = soup.body"
   ],
   "metadata": {
    "collapsed": false,
    "pycharm": {
     "name": "#%%\n",
     "is_executing": false
    }
   }
  },
  {
   "cell_type": "code",
   "execution_count": 4,
   "outputs": [
    {
     "name": "stdout",
     "text": [
      "['\\n', <b></b>, '\\n', <p class=\"title\">\n",
      "<b>\n",
      "                The Dormouse's story\n",
      "            </b>\n",
      "</p>, '\\n', <p class=\"story\">\n",
      "            Once upon a time there were three little sisters; and their names were\n",
      "            <a class=\"sister\" href=\"http://example.com/elsie\" id=\"link1\">\n",
      "                Elsie\n",
      "            </a>\n",
      "            ,\n",
      "            <a class=\"sister\" href=\"http://example.com/lacie\" id=\"link2\">\n",
      "                Lacie\n",
      "            </a>\n",
      "                and\n",
      "            <a class=\"sister\" href=\"http://example.com/tillie\" id=\"link2\">\n",
      "                Tillie\n",
      "            </a>\n",
      "                ; and they lived at the bottom of a well.\n",
      "        </p>, '\\n', <p class=\"story\">\n",
      "<b>\n",
      "                The End\n",
      "            </b>\n",
      "</p>, '\\n']\n"
     ],
     "output_type": "stream"
    }
   ],
   "source": [
    "print(body.contents)"
   ],
   "metadata": {
    "collapsed": false,
    "pycharm": {
     "name": "#%%\n",
     "is_executing": false
    }
   }
  },
  {
   "cell_type": "code",
   "execution_count": 8,
   "outputs": [
    {
     "name": "stdout",
     "text": [
      "<p class=\"story\">\n",
      "            Once upon a time there were three little sisters; and their names were\n",
      "            <a class=\"sister\" href=\"http://example.com/elsie\" id=\"link1\">\n",
      "                Elsie\n",
      "            </a>\n",
      "            ,\n",
      "            <a class=\"sister\" href=\"http://example.com/lacie\" id=\"link2\">\n",
      "                Lacie\n",
      "            </a>\n",
      "                and\n",
      "            <a class=\"sister\" href=\"http://example.com/tillie\" id=\"link2\">\n",
      "                Tillie\n",
      "            </a>\n",
      "                ; and they lived at the bottom of a well.\n",
      "        </p>\n"
     ],
     "output_type": "stream"
    }
   ],
   "source": [
    "p = soup.body.p\n",
    "print(p.next_sibling.next_sibling)"
   ],
   "metadata": {
    "collapsed": false,
    "pycharm": {
     "name": "#%%\n",
     "is_executing": false
    }
   }
  },
  {
   "cell_type": "markdown",
   "source": [
    "Previsou Sibling"
   ],
   "metadata": {
    "collapsed": false,
    "pycharm": {
     "name": "#%% md\n"
    }
   }
  },
  {
   "cell_type": "code",
   "execution_count": 9,
   "outputs": [
    {
     "name": "stdout",
     "text": [
      "['\\n', <head>\n",
      "<title>\n",
      "            The Dormouse's story\n",
      "        </title>\n",
      "</head>, '\\n', <body>\n",
      "<b></b>\n",
      "<p class=\"title\">\n",
      "<b>\n",
      "                The Dormouse's story\n",
      "            </b>\n",
      "</p>\n",
      "<p class=\"story\">\n",
      "            Once upon a time there were three little sisters; and their names were\n",
      "            <a class=\"sister\" href=\"http://example.com/elsie\" id=\"link1\">\n",
      "                Elsie\n",
      "            </a>\n",
      "            ,\n",
      "            <a class=\"sister\" href=\"http://example.com/lacie\" id=\"link2\">\n",
      "                Lacie\n",
      "            </a>\n",
      "                and\n",
      "            <a class=\"sister\" href=\"http://example.com/tillie\" id=\"link2\">\n",
      "                Tillie\n",
      "            </a>\n",
      "                ; and they lived at the bottom of a well.\n",
      "        </p>\n",
      "<p class=\"story\">\n",
      "<b>\n",
      "                The End\n",
      "            </b>\n",
      "</p>\n",
      "</body>, '\\n']\n"
     ],
     "output_type": "stream"
    }
   ],
   "source": [
    "body = soup.body\n",
    "\n",
    "print(soup.html.contents)\n",
    " \n"
   ],
   "metadata": {
    "collapsed": false,
    "pycharm": {
     "name": "#%%\n",
     "is_executing": false
    }
   }
  },
  {
   "cell_type": "code",
   "execution_count": 11,
   "outputs": [
    {
     "name": "stdout",
     "text": [
      "<head>\n",
      "<title>\n",
      "            The Dormouse's story\n",
      "        </title>\n",
      "</head>\n"
     ],
     "output_type": "stream"
    }
   ],
   "source": [
    "print(body.previous_sibling.previous_sibling)"
   ],
   "metadata": {
    "collapsed": false,
    "pycharm": {
     "name": "#%%\n",
     "is_executing": false
    }
   }
  },
  {
   "cell_type": "markdown",
   "source": [
    "next_siblings and previous_siblings"
   ],
   "metadata": {
    "collapsed": false,
    "pycharm": {
     "name": "#%% md\n"
    }
   }
  },
  {
   "cell_type": "code",
   "execution_count": 12,
   "outputs": [
    {
     "name": "stdout",
     "text": [
      "<p class=\"title\">\n",
      "<b>\n",
      "                The Dormouse's story\n",
      "            </b>\n",
      "</p>\n"
     ],
     "output_type": "stream"
    }
   ],
   "source": [
    "p = soup.body.p\n",
    "print(p)\n",
    "\n",
    "\n"
   ],
   "metadata": {
    "collapsed": false,
    "pycharm": {
     "name": "#%%\n",
     "is_executing": false
    }
   }
  },
  {
   "cell_type": "code",
   "execution_count": 14,
   "outputs": [
    {
     "name": "stdout",
     "text": [
      "\n",
      "p\n",
      "\n",
      "p\n",
      "\n"
     ],
     "output_type": "stream"
    }
   ],
   "source": [
    "# .next_siblings\n",
    "for sibling in p.next_siblings:\n",
    "    print(sibling.name if sibling != '\\n' else '')\n",
    "\n",
    "\n"
   ],
   "metadata": {
    "collapsed": false,
    "pycharm": {
     "name": "#%%\n",
     "is_executing": false
    }
   }
  },
  {
   "cell_type": "code",
   "execution_count": 15,
   "outputs": [
    {
     "name": "stdout",
     "text": [
      "\n",
      "<b></b>\n",
      "\n"
     ],
     "output_type": "stream"
    }
   ],
   "source": [
    "# .previous_siblings\n",
    "\n",
    "for sibling in p.previous_siblings:\n",
    "    print(sibling if sibling != '\\n' else '')"
   ],
   "metadata": {
    "collapsed": false,
    "pycharm": {
     "name": "#%%\n",
     "is_executing": false
    }
   }
  },
  {
   "cell_type": "code",
   "execution_count": null,
   "outputs": [],
   "source": [
    "\n"
   ],
   "metadata": {
    "collapsed": false,
    "pycharm": {
     "name": "#%%\n"
    }
   }
  }
 ],
 "metadata": {
  "kernelspec": {
   "display_name": "Python 3",
   "language": "python",
   "name": "python3"
  },
  "language_info": {
   "codemirror_mode": {
    "name": "ipython",
    "version": 2
   },
   "file_extension": ".py",
   "mimetype": "text/x-python",
   "name": "python",
   "nbconvert_exporter": "python",
   "pygments_lexer": "ipython2",
   "version": "2.7.6"
  },
  "pycharm": {
   "stem_cell": {
    "cell_type": "raw",
    "source": [],
    "metadata": {
     "collapsed": false
    }
   }
  }
 },
 "nbformat": 4,
 "nbformat_minor": 0
}