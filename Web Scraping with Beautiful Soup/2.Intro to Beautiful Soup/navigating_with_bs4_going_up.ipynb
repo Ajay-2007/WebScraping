{
 "cells": [
  {
   "cell_type": "markdown",
   "metadata": {
    "collapsed": true,
    "pycharm": {
     "name": "#%% md\n"
    }
   },
   "source": [
    "Navigating with Beautiful Soup going up"
   ]
  },
  {
   "cell_type": "code",
   "execution_count": 2,
   "outputs": [],
   "source": [
    "from bs4 import BeautifulSoup\n",
    "\n",
    "with open('024 three-sisters.html') as file:\n",
    "    data = file.read()\n",
    "\n",
    "soup = BeautifulSoup(data, 'lxml')"
   ],
   "metadata": {
    "collapsed": false,
    "pycharm": {
     "name": "#%%\n",
     "is_executing": false
    }
   }
  },
  {
   "cell_type": "code",
   "execution_count": 4,
   "outputs": [
    {
     "name": "stdout",
     "text": [
      "head\n"
     ],
     "output_type": "stream"
    }
   ],
   "source": [
    "title = soup.title \n",
    "\n",
    "parent = title.parent\n",
    "# .name returns the name of the tag\n",
    "print(parent.name)\n",
    "\n"
   ],
   "metadata": {
    "collapsed": false,
    "pycharm": {
     "name": "#%%%\n",
     "is_executing": false
    }
   }
  },
  {
   "cell_type": "code",
   "execution_count": 6,
   "outputs": [
    {
     "name": "stdout",
     "text": [
      "<p class=\"title\">\n",
      "<b>\n",
      "                The Dormouse's story\n",
      "            </b>\n",
      "</p>\n"
     ],
     "output_type": "stream"
    }
   ],
   "source": [
    "p = soup.p\n",
    "print(p)\n"
   ],
   "metadata": {
    "collapsed": false,
    "pycharm": {
     "name": "#%%\n",
     "is_executing": false
    }
   }
  },
  {
   "cell_type": "code",
   "execution_count": 7,
   "outputs": [
    {
     "name": "stdout",
     "text": [
      "<body>\n",
      "<b></b>\n",
      "<p class=\"title\">\n",
      "<b>\n",
      "                The Dormouse's story\n",
      "            </b>\n",
      "</p>\n",
      "<p class=\"story\">\n",
      "            Once upon a time there were three little sisters; and their names were\n",
      "            <a class=\"sister\" href=\"http://example.com/elsie\" id=\"link1\">\n",
      "                Elsie\n",
      "            </a>\n",
      "            ,\n",
      "            <a class=\"sister\" href=\"http://example.com/lacie\" id=\"link2\">\n",
      "                Lacie\n",
      "            </a>\n",
      "                and\n",
      "            <a class=\"sister\" href=\"http://example.com/tillie\" id=\"link2\">\n",
      "                Tillie\n",
      "            </a>\n",
      "                ; and they lived at the bottom of a well.\n",
      "        </p>\n",
      "<p class=\"story\">\n",
      "<b>\n",
      "                The End\n",
      "            </b>\n",
      "</p>\n",
      "</body>\n"
     ],
     "output_type": "stream"
    }
   ],
   "source": [
    "print(p.parent)"
   ],
   "metadata": {
    "collapsed": false,
    "pycharm": {
     "name": "#%%\n",
     "is_executing": false
    }
   }
  },
  {
   "cell_type": "code",
   "execution_count": 8,
   "outputs": [
    {
     "name": "stdout",
     "text": [
      "body\n"
     ],
     "output_type": "stream"
    }
   ],
   "source": [
    "print(p.parent.name)"
   ],
   "metadata": {
    "collapsed": false,
    "pycharm": {
     "name": "#%%\n",
     "is_executing": false
    }
   }
  },
  {
   "cell_type": "code",
   "execution_count": 11,
   "outputs": [
    {
     "name": "stdout",
     "text": [
      "<class 'bs4.BeautifulSoup'>\n"
     ],
     "output_type": "stream"
    }
   ],
   "source": [
    "html = soup.html\n",
    "print(type(html.parent))"
   ],
   "metadata": {
    "collapsed": false,
    "pycharm": {
     "name": "#%%\n",
     "is_executing": false
    }
   }
  },
  {
   "cell_type": "code",
   "execution_count": 12,
   "outputs": [
    {
     "name": "stdout",
     "text": [
      "None\n"
     ],
     "output_type": "stream"
    }
   ],
   "source": [
    "print(soup.parent)"
   ],
   "metadata": {
    "collapsed": false,
    "pycharm": {
     "name": "#%%\n",
     "is_executing": false
    }
   }
  },
  {
   "cell_type": "markdown",
   "source": [
    ".parents => returns a list (generator) of parents"
   ],
   "metadata": {
    "collapsed": false,
    "pycharm": {
     "name": "#%% md\n"
    }
   }
  },
  {
   "cell_type": "code",
   "execution_count": 13,
   "outputs": [
    {
     "name": "stdout",
     "text": [
      "<a class=\"sister\" href=\"http://example.com/elsie\" id=\"link1\">\n",
      "                Elsie\n",
      "            </a>\n"
     ],
     "output_type": "stream"
    }
   ],
   "source": [
    "link = soup.a \n",
    "print(link)"
   ],
   "metadata": {
    "collapsed": false,
    "pycharm": {
     "name": "#%%\n",
     "is_executing": false
    }
   }
  },
  {
   "cell_type": "code",
   "execution_count": 14,
   "outputs": [
    {
     "name": "stdout",
     "text": [
      "<generator object PageElement.parents at 0x08309130>\n"
     ],
     "output_type": "stream"
    }
   ],
   "source": [
    "print(link.parents)\n",
    "\n"
   ],
   "metadata": {
    "collapsed": false,
    "pycharm": {
     "name": "#%%\n",
     "is_executing": false
    }
   }
  },
  {
   "cell_type": "code",
   "execution_count": 18,
   "outputs": [
    {
     "name": "stdout",
     "text": [
      "<p class=\"story\">\n",
      "            Once upon a time there were three little sisters; and their names were\n",
      "            <a class=\"sister\" href=\"http://example.com/elsie\" id=\"link1\">\n",
      "                Elsie\n",
      "            </a>\n",
      "            ,\n",
      "            <a class=\"sister\" href=\"http://example.com/lacie\" id=\"link2\">\n",
      "                Lacie\n",
      "            </a>\n",
      "                and\n",
      "            <a class=\"sister\" href=\"http://example.com/tillie\" id=\"link2\">\n",
      "                Tillie\n",
      "            </a>\n",
      "                ; and they lived at the bottom of a well.\n",
      "        </p>\n"
     ],
     "output_type": "stream"
    }
   ],
   "source": [
    "print(link.parent)"
   ],
   "metadata": {
    "collapsed": false,
    "pycharm": {
     "name": "#%%\n",
     "is_executing": false
    }
   }
  },
  {
   "cell_type": "code",
   "execution_count": 21,
   "outputs": [
    {
     "name": "stdout",
     "text": [
      "p\n",
      "body\n",
      "html\n",
      "[document]\n"
     ],
     "output_type": "stream"
    }
   ],
   "source": [
    "for parent in link.parents:\n",
    "    print(parent.name)"
   ],
   "metadata": {
    "collapsed": false,
    "pycharm": {
     "name": "#%%\n",
     "is_executing": false
    }
   }
  },
  {
   "cell_type": "code",
   "execution_count": null,
   "outputs": [],
   "source": [
    "\n"
   ],
   "metadata": {
    "collapsed": false,
    "pycharm": {
     "name": "#%%\n"
    }
   }
  }
 ],
 "metadata": {
  "kernelspec": {
   "display_name": "Python 3",
   "language": "python",
   "name": "python3"
  },
  "language_info": {
   "codemirror_mode": {
    "name": "ipython",
    "version": 2
   },
   "file_extension": ".py",
   "mimetype": "text/x-python",
   "name": "python",
   "nbconvert_exporter": "python",
   "pygments_lexer": "ipython2",
   "version": "2.7.6"
  },
  "pycharm": {
   "stem_cell": {
    "cell_type": "raw",
    "source": [],
    "metadata": {
     "collapsed": false
    }
   }
  }
 },
 "nbformat": 4,
 "nbformat_minor": 0
}