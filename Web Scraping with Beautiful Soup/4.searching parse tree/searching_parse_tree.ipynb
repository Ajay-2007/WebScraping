{
 "cells": [
  {
   "cell_type": "code",
   "execution_count": 2,
   "metadata": {
    "collapsed": true,
    "pycharm": {
     "is_executing": false
    }
   },
   "outputs": [],
   "source": [
    "import re\n",
    "from bs4 import BeautifulSoup\n",
    "\n",
    "with open('024 three-sisters.html') as file:\n",
    "    data = file.read()\n",
    "\n",
    "\n",
    "soup = BeautifulSoup(data, 'lxml')"
   ]
  },
  {
   "cell_type": "code",
   "execution_count": 3,
   "outputs": [
    {
     "name": "stdout",
     "text": [
      "[<b></b>, <b>\n",
      "                The Dormouse's story\n",
      "            </b>, <b>\n",
      "                The End\n",
      "            </b>]\n"
     ],
     "output_type": "stream"
    }
   ],
   "source": [
    "print(soup.find_all('b'))"
   ],
   "metadata": {
    "collapsed": false,
    "pycharm": {
     "name": "#%%\n",
     "is_executing": false
    }
   }
  },
  {
   "cell_type": "code",
   "execution_count": 4,
   "outputs": [
    {
     "name": "stdout",
     "text": [
      "[<a class=\"sister\" href=\"http://example.com/elsie\" id=\"link1\">\n",
      "                Elsie\n",
      "            </a>, <a class=\"sister\" href=\"http://example.com/lacie\" id=\"link2\">\n",
      "                Lacie\n",
      "            </a>, <a class=\"sister\" href=\"http://example.com/tillie\" id=\"link2\">\n",
      "                Tillie\n",
      "            </a>]\n"
     ],
     "output_type": "stream"
    }
   ],
   "source": [
    "print(soup.find_all('a'))"
   ],
   "metadata": {
    "collapsed": false,
    "pycharm": {
     "name": "#%%\n",
     "is_executing": false
    }
   }
  },
  {
   "cell_type": "code",
   "execution_count": 5,
   "outputs": [
    {
     "name": "stdout",
     "text": [
      "body\n",
      "b\n",
      "b\n",
      "b\n"
     ],
     "output_type": "stream"
    }
   ],
   "source": [
    "# regular expression\n",
    "# tag name start with b\n",
    "\n",
    "regex = re.compile('^b')\n",
    "\n",
    "for tag in soup.find_all(regex):\n",
    "    print(tag.name)"
   ],
   "metadata": {
    "collapsed": false,
    "pycharm": {
     "name": "#%%\n",
     "is_executing": false
    }
   }
  },
  {
   "cell_type": "code",
   "execution_count": 6,
   "outputs": [
    {
     "name": "stdout",
     "text": [
      "html\n",
      "title\n"
     ],
     "output_type": "stream"
    }
   ],
   "source": [
    "# tag names contain t\n",
    "regex = re.compile('t')\n",
    "\n",
    "for tag in soup.find_all(regex):\n",
    "    print(tag.name)"
   ],
   "metadata": {
    "collapsed": false,
    "pycharm": {
     "name": "#%%\n",
     "is_executing": false
    }
   }
  },
  {
   "cell_type": "code",
   "execution_count": 7,
   "outputs": [
    {
     "name": "stdout",
     "text": [
      "b\n",
      "b\n",
      "a\n",
      "a\n",
      "a\n",
      "b\n"
     ],
     "output_type": "stream"
    }
   ],
   "source": [
    "# list \n",
    "# all a and b tags\n",
    "\n",
    "for tag in soup.find_all(['a', 'b']):\n",
    "    print(tag.name)\n"
   ],
   "metadata": {
    "collapsed": false,
    "pycharm": {
     "name": "#%%\n",
     "is_executing": false
    }
   }
  },
  {
   "cell_type": "code",
   "execution_count": 8,
   "outputs": [
    {
     "name": "stdout",
     "text": [
      "p\n",
      "p\n",
      "a\n",
      "a\n",
      "a\n",
      "p\n"
     ],
     "output_type": "stream"
    }
   ],
   "source": [
    "# function\n",
    "\n",
    "def has_class(tag):\n",
    "    return tag.has_attr('class')\n",
    "\n",
    "for tag in soup.find_all(has_class):\n",
    "    print(tag.name)"
   ],
   "metadata": {
    "collapsed": false,
    "pycharm": {
     "name": "#%%\n",
     "is_executing": false
    }
   }
  },
  {
   "cell_type": "code",
   "execution_count": null,
   "outputs": [],
   "source": [
    "\n"
   ],
   "metadata": {
    "collapsed": false,
    "pycharm": {
     "name": "#%%\n"
    }
   }
  }
 ],
 "metadata": {
  "kernelspec": {
   "display_name": "Python 3",
   "language": "python",
   "name": "python3"
  },
  "language_info": {
   "codemirror_mode": {
    "name": "ipython",
    "version": 2
   },
   "file_extension": ".py",
   "mimetype": "text/x-python",
   "name": "python",
   "nbconvert_exporter": "python",
   "pygments_lexer": "ipython2",
   "version": "2.7.6"
  },
  "pycharm": {
   "stem_cell": {
    "cell_type": "raw",
    "source": [],
    "metadata": {
     "collapsed": false
    }
   }
  }
 },
 "nbformat": 4,
 "nbformat_minor": 0
}