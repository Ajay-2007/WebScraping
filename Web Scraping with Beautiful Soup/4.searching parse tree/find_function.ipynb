{
 "cells": [
  {
   "cell_type": "code",
   "execution_count": 1,
   "metadata": {
    "collapsed": true,
    "pycharm": {
     "is_executing": false
    }
   },
   "outputs": [],
   "source": [
    "import re\n",
    "from bs4 import BeautifulSoup\n",
    "\n",
    "with open('024 three-sisters.html') as file:\n",
    "    data = file.read()\n",
    "    \n",
    "soup = BeautifulSoup(data, 'lxml')"
   ]
  },
  {
   "cell_type": "code",
   "execution_count": 2,
   "outputs": [
    {
     "name": "stdout",
     "text": [
      "<a class=\"sister\" href=\"http://example.com/elsie\" id=\"link1\">\n",
      "                Elsie\n",
      "            </a>\n"
     ],
     "output_type": "stream"
    }
   ],
   "source": [
    "# Signature: find(name, attrs, recursive, string, **kwargs)\n",
    "# returns a single object if found  - in case of multiple objects,\n",
    "# it returns the first one it finds\n",
    "\n",
    "print(soup.find('a'))"
   ],
   "metadata": {
    "collapsed": false,
    "pycharm": {
     "name": "#%%\n",
     "is_executing": false
    }
   }
  },
  {
   "cell_type": "code",
   "execution_count": 3,
   "outputs": [
    {
     "name": "stdout",
     "text": [
      "[<a class=\"sister\" href=\"http://example.com/elsie\" id=\"link1\">\n",
      "                Elsie\n",
      "            </a>, <a class=\"sister\" href=\"http://example.com/lacie\" id=\"link2\">\n",
      "                Lacie\n",
      "            </a>, <a class=\"sister\" href=\"http://example.com/tillie\" id=\"link2\">\n",
      "                Tillie\n",
      "            </a>]\n"
     ],
     "output_type": "stream"
    }
   ],
   "source": [
    "print(soup.find_all('a'))\n",
    "\n",
    "\n"
   ],
   "metadata": {
    "collapsed": false,
    "pycharm": {
     "name": "#%%\n",
     "is_executing": false
    }
   }
  },
  {
   "cell_type": "code",
   "execution_count": null,
   "outputs": [],
   "source": [
    "\n"
   ],
   "metadata": {
    "collapsed": false,
    "pycharm": {
     "name": "#%%\n"
    }
   }
  }
 ],
 "metadata": {
  "kernelspec": {
   "display_name": "Python 3",
   "language": "python",
   "name": "python3"
  },
  "language_info": {
   "codemirror_mode": {
    "name": "ipython",
    "version": 2
   },
   "file_extension": ".py",
   "mimetype": "text/x-python",
   "name": "python",
   "nbconvert_exporter": "python",
   "pygments_lexer": "ipython2",
   "version": "2.7.6"
  },
  "pycharm": {
   "stem_cell": {
    "cell_type": "raw",
    "source": [],
    "metadata": {
     "collapsed": false
    }
   }
  }
 },
 "nbformat": 4,
 "nbformat_minor": 0
}