{
 "cells": [
  {
   "cell_type": "code",
   "execution_count": 2,
   "metadata": {
    "collapsed": true,
    "pycharm": {
     "is_executing": false
    }
   },
   "outputs": [],
   "source": [
    "import requests\n",
    "from bs4 import BeautifulSoup\n",
    "import re\n",
    "from fake_useragent import UserAgent"
   ]
  },
  {
   "cell_type": "markdown",
   "source": [
    "codingbat.com/java\n",
    "\n",
    "codingbat.com/java/{problen_category_link}\n",
    "\n",
    "codingbat.com/prob/{problem_link}"
   ],
   "metadata": {
    "collapsed": false,
    "pycharm": {
     "name": "#%% md\n"
    }
   }
  },
  {
   "cell_type": "code",
   "execution_count": 3,
   "outputs": [],
   "source": [
    "filename = 'main_page.txt'\n",
    "url = 'https://codingbat.com/java'\n",
    "user_agent = UserAgent()\n",
    "page = requests.get(url, headers={'user-agent' : user_agent.chrome})\n",
    "\n",
    "\n",
    "\n",
    "with open(filename, 'w') as file:\n",
    "    file.write(page.content.decode('utf-8')) if type(page.content) == bytes else file.write(page.content)"
   ],
   "metadata": {
    "collapsed": false,
    "pycharm": {
     "name": "#%%\n",
     "is_executing": false
    }
   }
  },
  {
   "cell_type": "code",
   "execution_count": 4,
   "outputs": [],
   "source": [
    "with open('main_page.txt') as file:\n",
    "    data = file.read()\n",
    "\n",
    "soup = BeautifulSoup(data, 'lxml')"
   ],
   "metadata": {
    "collapsed": false,
    "pycharm": {
     "name": "#%%\n",
     "is_executing": false
    }
   }
  },
  {
   "cell_type": "code",
   "execution_count": 13,
   "outputs": [],
   "source": [
    "prev_link = 'https://codingbat.com'\n",
    "questions_dict = {div.a.string : prev_link + div.a.get('href') for div in soup.find_all('div', class_='summ')} \n"
   ],
   "metadata": {
    "collapsed": false,
    "pycharm": {
     "name": "#%%\n",
     "is_executing": false
    }
   }
  },
  {
   "cell_type": "code",
   "execution_count": 14,
   "outputs": [
    {
     "name": "stdout",
     "text": [
      "Warmup-1 https://codingbat.com/java/Warmup-1\n",
      "Warmup-2 https://codingbat.com/java/Warmup-2\n",
      "String-1 https://codingbat.com/java/String-1\n",
      "Array-1 https://codingbat.com/java/Array-1\n",
      "Logic-1 https://codingbat.com/java/Logic-1\n",
      "Logic-2 https://codingbat.com/java/Logic-2\n",
      "String-2 https://codingbat.com/java/String-2\n",
      "String-3 https://codingbat.com/java/String-3\n",
      "Array-2 https://codingbat.com/java/Array-2\n",
      "Array-3 https://codingbat.com/java/Array-3\n",
      "AP-1 https://codingbat.com/java/AP-1\n",
      "Recursion-1 https://codingbat.com/java/Recursion-1\n",
      "Recursion-2 https://codingbat.com/java/Recursion-2\n",
      "Map-1 https://codingbat.com/java/Map-1\n",
      "Map-2 https://codingbat.com/java/Map-2\n",
      "Functional-1 https://codingbat.com/java/Functional-1\n",
      "Functional-2 https://codingbat.com/java/Functional-2\n"
     ],
     "output_type": "stream"
    }
   ],
   "source": [
    "for question_cat, link in questions_dict.items():\n",
    "    print(question_cat, link)"
   ],
   "metadata": {
    "collapsed": false,
    "pycharm": {
     "name": "#%%\n",
     "is_executing": false
    }
   }
  },
  {
   "cell_type": "markdown",
   "source": [
    "go to each link from dict and then extract prob link from there\n",
    "\n",
    "table.tbody.tr.td.a.string \n",
    "and \n",
    "table.tbody.tr.td.a.string.get('href')"
   ],
   "metadata": {
    "collapsed": false,
    "pycharm": {
     "name": "#%% md\n"
    }
   }
  },
  {
   "cell_type": "code",
   "execution_count": 15,
   "outputs": [
    {
     "name": "stdout",
     "text": [
      "https://codingbat.com/java/Warmup-1\n",
      "https://codingbat.com/java/Warmup-2\n",
      "https://codingbat.com/java/String-1\n",
      "https://codingbat.com/java/Array-1\n",
      "https://codingbat.com/java/Logic-1\n",
      "https://codingbat.com/java/Logic-2\n",
      "https://codingbat.com/java/String-2\n",
      "https://codingbat.com/java/String-3\n",
      "https://codingbat.com/java/Array-2\n",
      "https://codingbat.com/java/Array-3\n",
      "https://codingbat.com/java/AP-1\n",
      "https://codingbat.com/java/Recursion-1\n",
      "https://codingbat.com/java/Recursion-2\n",
      "https://codingbat.com/java/Map-1\n",
      "https://codingbat.com/java/Map-2\n",
      "https://codingbat.com/java/Functional-1\n",
      "https://codingbat.com/java/Functional-2\n"
     ],
     "output_type": "stream"
    }
   ],
   "source": [
    "for link in questions_dict.values():\n",
    "    print(link)\n"
   ],
   "metadata": {
    "collapsed": false,
    "pycharm": {
     "name": "#%%\n",
     "is_executing": false
    }
   }
  },
  {
   "cell_type": "code",
   "execution_count": 18,
   "outputs": [
    {
     "name": "stdout",
     "text": [
      "{'Warmup-1': 'https://codingbat.com/java/Warmup-1', 'Warmup-2': 'https://codingbat.com/java/Warmup-2', 'String-1': 'https://codingbat.com/java/String-1', 'Array-1': 'https://codingbat.com/java/Array-1', 'Logic-1': 'https://codingbat.com/java/Logic-1', 'Logic-2': 'https://codingbat.com/java/Logic-2', 'String-2': 'https://codingbat.com/java/String-2', 'String-3': 'https://codingbat.com/java/String-3', 'Array-2': 'https://codingbat.com/java/Array-2', 'Array-3': 'https://codingbat.com/java/Array-3', 'AP-1': 'https://codingbat.com/java/AP-1', 'Recursion-1': 'https://codingbat.com/java/Recursion-1', 'Recursion-2': 'https://codingbat.com/java/Recursion-2', 'Map-1': 'https://codingbat.com/java/Map-1', 'Map-2': 'https://codingbat.com/java/Map-2', 'Functional-1': 'https://codingbat.com/java/Functional-1', 'Functional-2': 'https://codingbat.com/java/Functional-2'}\n",
      "b\"<!doctype html><head><meta charset=utf-8 />\\n<link rel=stylesheet type=text/css href=/codingbat.css>\\n\\r\\n<title>CodingBat Java Warmup-1</title></head><body>\\n<div style='float:right;  margin:0px; border: 1px solid lightgray;'><table><form  method=post action=/login><tr><td>id/email</td><td><input type=text name=uname size=20></td></tr><tr><td>password</td><td><input type=password name=pw size=20></td></tr><tr><td></td><td><input type=submit name=dologin value='log in'></td></tr> <input type=hidden name=fromurl value='/java/Warmup-1'></form><tr><td colspan=2><a href=/reset>forgot password</a> | <a href='/pref?docreate=1'>create account</a></td></tr></div></td></tr></table></div><div  style='float:right'><table><tr><td valign=top style='text-align:right' colspan=1><a href=/about.html>about</a> | <a href=/help.html>help</a> | <a href=/doc/code-help-videos.html>code help+videos | <a href=/done>done</a> | <a href='/pref'>prefs</a> </td></tr></table></div><a href=/><span style='font-size:200%;'>CodingBat</span></a> code practice<div class=pretab><p class=max>&nbsp;</div><div class=tabc><nav><ul><li class=h2 id=selected><a href=/java>Java</a></li><li class=h2><a href=/python>Python</a></li></ul></nav><div class=tabin><div class=indent><span class=h2>Warmup-1</span> <img src=/s1.jpg><img src=/s1.jpg><img src=/s1.jpg><img src=/s1.jpg><img src=/s1.jpg><img src=/s1.jpg><img src=/s1.jpg><img src=/s1.jpg><a style='margin-left:80px' rel=nofollow href='/java/Warmup-1?chance=1'>chance</a><p style='max-width:800px'>Simple warmup problems to get started (solutions available). <b>New</b> videos: <a href=/doc/java-string-introduction.html>String Introduction</a>, <a href=/doc/java-string-substring.html>String Substring</a>, <a href=/doc/java-if-boolean-example-solution-code-1.html>If Boolean Logic 1</a>, <a href=/doc/java-if-boolean-example-solution-code-2.html>If Boolean Logic 2</a><br><table><tr><td width=200>&nbsp;<img src=/c1.jpg><a href='/prob/p187868'>sleepIn</a>&nbsp;<font color=gray>H</font> </td><td width=200>&nbsp;<img src=/c1.jpg><a href='/prob/p181646'>monkeyTrouble</a>&nbsp;<font color=gray>H</font> </td><td width=200>&nbsp;<img src=/c1.jpg><a href='/prob/p154485'>sumDouble</a>&nbsp;<font color=gray>H</font> </td></tr>\\n<tr><td width=200>&nbsp;<img src=/c1.jpg><a href='/prob/p116624'>diff21</a>&nbsp;<font color=gray>H</font> </td><td width=200>&nbsp;<img src=/c1.jpg><a href='/prob/p140449'>parrotTrouble</a>&nbsp;<font color=gray>H</font> </td><td width=200>&nbsp;<img src=/c1.jpg><a href='/prob/p182873'>makes10</a>&nbsp;<font color=gray>H</font> </td></tr>\\n<tr><td width=200>&nbsp;<img src=/c1.jpg><a href='/prob/p184004'>nearHundred</a>&nbsp;<font color=gray>H</font> </td><td width=200>&nbsp;<img src=/c1.jpg><a href='/prob/p159227'>posNeg</a>&nbsp;<font color=gray>H</font> </td><td width=200>&nbsp;<img src=/c1.jpg><a href='/prob/p191914'>notString</a>&nbsp;<font color=gray>H</font> </td></tr>\\n<tr><td width=200>&nbsp;<img src=/c1.jpg><a href='/prob/p190570'>missingChar</a>&nbsp;<font color=gray>H</font> </td><td width=200>&nbsp;<img src=/c1.jpg><a href='/prob/p123384'>frontBack</a>&nbsp;<font color=gray>H</font> </td><td width=200>&nbsp;<img src=/c1.jpg><a href='/prob/p136351'>front3</a>&nbsp;<font color=gray>H</font> </td></tr>\\n<tr><td width=200>&nbsp;<img src=/c1.jpg><a href='/prob/p161642'>backAround</a>&nbsp;<font color=gray>H</font> </td><td width=200>&nbsp;<img src=/c1.jpg><a href='/prob/p112564'>or35</a>&nbsp;<font color=gray>H</font> </td><td width=200>&nbsp;<img src=/c1.jpg><a href='/prob/p183592'>front22</a>&nbsp;<font color=gray>H</font> </td></tr>\\n<tr><td width=200>&nbsp;<img src=/c1.jpg><a href='/prob/p191022'>startHi</a>&nbsp;<font color=gray>H</font> </td><td width=200>&nbsp;<img src=/c1.jpg><a href='/prob/p192082'>icyHot</a>&nbsp;<font color=gray>H</font> </td><td width=200>&nbsp;<img src=/c1.jpg><a href='/prob/p144535'>in1020</a>&nbsp;<font color=gray>H</font> </td></tr>\\n<tr><td width=200>&nbsp;<img src=/c1.jpg><a href='/prob/p178986'>hasTeen</a>&nbsp;<font color=gray>H</font> </td><td width=200>&nbsp;<img src=/c1.jpg><a href='/prob/p165701'>loneTeen</a>&nbsp;<font color=gray>H</font> </td><td width=200>&nbsp;<img src=/c1.jpg><a href='/prob/p100905'>delDel</a>&nbsp;<font color=gray>H</font> </td></tr>\\n<tr><td width=200>&nbsp;<img src=/c1.jpg><a href='/prob/p151713'>mixStart</a>&nbsp;<font color=gray>H</font> </td><td width=200>&nbsp;<img src=/c1.jpg><a href='/prob/p199720'>startOz</a>&nbsp;<font color=gray>H</font> </td><td width=200>&nbsp;<img src=/c1.jpg><a href='/prob/p101887'>intMax</a>&nbsp;<font color=gray>H</font> </td></tr>\\n<tr><td width=200>&nbsp;<img src=/c1.jpg><a href='/prob/p172021'>close10</a>&nbsp;<font color=gray>H</font> </td><td width=200>&nbsp;<img src=/c1.jpg><a href='/prob/p132134'>in3050</a>&nbsp;<font color=gray>H</font> </td><td width=200>&nbsp;<img src=/c1.jpg><a href='/prob/p177372'>max1020</a>&nbsp;<font color=gray>H</font> </td></tr>\\n<tr><td width=200>&nbsp;<img src=/c1.jpg><a href='/prob/p173784'>stringE</a>&nbsp;<font color=gray>H</font> </td><td width=200>&nbsp;<img src=/c1.jpg><a href='/prob/p125339'>lastDigit</a>&nbsp;<font color=gray>H</font> </td><td width=200>&nbsp;<img src=/c1.jpg><a href='/prob/p125268'>endUp</a>&nbsp;<font color=gray>H</font> </td></tr>\\n<tr><td width=200>&nbsp;<img src=/c1.jpg><a href='/prob/p196441'>everyNth</a>&nbsp;<font color=gray>H</font> </td></table>\\n<p><h3>Java Help</h3><p style='max-width:800px'><ul><li><a href=/doc/java-example-solution-code.html>Java Example Solution Code</a><li><a href=/doc/java-string-introduction.html>Java String Introduction</a> (video) <li><a href=/doc/java-string-substring.html>Java Substring v2</a> (video)<li><a href=/doc/java-string-equals-loops.html>Java String Equals and Loops</a><li><a href=/doc/java-string-indexof-parsing.html>Java String indexOf and Parsing</a><li><a href=/doc/java-if-boolean-logic.html>Java If and Boolean Logic</a><li>&nbsp; <a href=/doc/java-if-boolean-example-solution-code-1.html>If Boolean Logic Example Solution Code 1</a> (video)<li>&nbsp; <a href=/doc/java-if-boolean-example-solution-code-2.html>If Boolean Logic Example Solution Code 2</a> (video)<li><a href=/doc/java-for-while-loops.html>Java For and While Loops</a><li><a href=/doc/java-array-loops.html>Java Arrays and Loops</a><li><a href=/doc/java-map-introduction.html>Java Map Introduction</a><li><a href=/doc/java-map-wordcount.html>Java Map WordCount</a><li><a href=/doc/java-functional-mapping.html>Java Functional Mapping</a><li><a href=/doc/java-functional-filtering.html>Java Functional Filtering</a></ul><p style='max-width:800px'><h3>Misc Code Practice</h3><ul><li><a href=/doc/practice/code-badges.html>Code Badges</a><li><a href=/doc/practice/mod-introduction.html>Introduction to Mod</a> (video)<li><a href=/doc/practice/makebricks-introduction.html>MakeBricks problem and solution</a> (video x 2)<li><a href=/doc/practice/fizzbuzz-code.html>FizzBuzz the famous</a> code interview question (video)</ul></div></div></div><p style='font-size:x-small;'>Copyright <a style='font-size:x-small;' href='http://www-cs-faculty.stanford.edu/~nick'>Nick Parlante</a> 2017 - <a style='font-size:x-small;' href=/privacy.html>privacy</a></body>\\r\\n</html>\\r\\n\"\n"
     ],
     "output_type": "stream"
    }
   ],
   "source": [
    "print(questions_dict)\n",
    "page = requests.get(questions_dict['Warmup-1'], headers={'user-agent': user_agent.chrome})\n",
    "\n",
    "\n",
    "print(page.content)"
   ],
   "metadata": {
    "collapsed": false,
    "pycharm": {
     "name": "#%%\n",
     "is_executing": false
    }
   }
  },
  {
   "cell_type": "code",
   "execution_count": 43,
   "outputs": [],
   "source": [
    "# prob_name, prob_link\n",
    "def write_and_read(page):\n",
    "    with open('file.txt', 'w') as file:\n",
    "        file.write(page.content.decode('utf-8')) if type(page.content) == bytes else file.write(page.content)\n",
    "    \n",
    "    with open('file.txt', 'r') as file:\n",
    "        data = file.read()\n",
    "\n",
    "    return data\n",
    "    "
   ],
   "metadata": {
    "collapsed": false,
    "pycharm": {
     "name": "#%%\n",
     "is_executing": false
    }
   }
  },
  {
   "cell_type": "code",
   "execution_count": 71,
   "outputs": [],
   "source": [
    "priv_link_2 = 'https://codingbat.com'\n",
    "prob_list = []\n",
    "for link in questions_dict.values():\n",
    "    page = requests.get(link, headers={'user-agent': user_agent.chrome})\n",
    "    data = write_and_read(page)\n",
    "    soup = BeautifulSoup(data, 'lxml')\n",
    "    prob_dict = {td.a.string : priv_link_2 + td.a.get('href') for td \n",
    "     in soup.find_all('td', attrs={'width': 200})} \n",
    "    \n",
    "    prob_list.append(prob_dict)\n",
    "    \n",
    "\n"
   ],
   "metadata": {
    "collapsed": false,
    "pycharm": {
     "name": "#%%\n",
     "is_executing": false
    }
   }
  },
  {
   "cell_type": "code",
   "execution_count": 72,
   "outputs": [
    {
     "name": "stdout",
     "text": [
      "{'sleepIn': 'https://codingbat.com/prob/p187868', 'monkeyTrouble': 'https://codingbat.com/prob/p181646', 'sumDouble': 'https://codingbat.com/prob/p154485', 'diff21': 'https://codingbat.com/prob/p116624', 'parrotTrouble': 'https://codingbat.com/prob/p140449', 'makes10': 'https://codingbat.com/prob/p182873', 'nearHundred': 'https://codingbat.com/prob/p184004', 'posNeg': 'https://codingbat.com/prob/p159227', 'notString': 'https://codingbat.com/prob/p191914', 'missingChar': 'https://codingbat.com/prob/p190570', 'frontBack': 'https://codingbat.com/prob/p123384', 'front3': 'https://codingbat.com/prob/p136351', 'backAround': 'https://codingbat.com/prob/p161642', 'or35': 'https://codingbat.com/prob/p112564', 'front22': 'https://codingbat.com/prob/p183592', 'startHi': 'https://codingbat.com/prob/p191022', 'icyHot': 'https://codingbat.com/prob/p192082', 'in1020': 'https://codingbat.com/prob/p144535', 'hasTeen': 'https://codingbat.com/prob/p178986', 'loneTeen': 'https://codingbat.com/prob/p165701', 'delDel': 'https://codingbat.com/prob/p100905', 'mixStart': 'https://codingbat.com/prob/p151713', 'startOz': 'https://codingbat.com/prob/p199720', 'intMax': 'https://codingbat.com/prob/p101887', 'close10': 'https://codingbat.com/prob/p172021', 'in3050': 'https://codingbat.com/prob/p132134', 'max1020': 'https://codingbat.com/prob/p177372', 'stringE': 'https://codingbat.com/prob/p173784', 'lastDigit': 'https://codingbat.com/prob/p125339', 'endUp': 'https://codingbat.com/prob/p125268', 'everyNth': 'https://codingbat.com/prob/p196441'}\n",
      "{'stringTimes': 'https://codingbat.com/prob/p142270', 'frontTimes': 'https://codingbat.com/prob/p101475', 'countXX': 'https://codingbat.com/prob/p194667', 'doubleX': 'https://codingbat.com/prob/p186759', 'stringBits': 'https://codingbat.com/prob/p165666', 'stringSplosion': 'https://codingbat.com/prob/p117334', 'last2': 'https://codingbat.com/prob/p178318', 'arrayCount9': 'https://codingbat.com/prob/p184031', 'arrayFront9': 'https://codingbat.com/prob/p186031', 'array123': 'https://codingbat.com/prob/p136041', 'stringMatch': 'https://codingbat.com/prob/p198640', 'stringX': 'https://codingbat.com/prob/p171260', 'altPairs': 'https://codingbat.com/prob/p121596', 'stringYak': 'https://codingbat.com/prob/p126212', 'array667': 'https://codingbat.com/prob/p110019', 'noTriples': 'https://codingbat.com/prob/p170221', 'has271': 'https://codingbat.com/prob/p167430'}\n",
      "{'helloName': 'https://codingbat.com/prob/p171896', 'makeAbba': 'https://codingbat.com/prob/p161056', 'makeTags': 'https://codingbat.com/prob/p147483', 'makeOutWord': 'https://codingbat.com/prob/p184030', 'extraEnd': 'https://codingbat.com/prob/p108853', 'firstTwo': 'https://codingbat.com/prob/p163411', 'firstHalf': 'https://codingbat.com/prob/p172267', 'withoutEnd': 'https://codingbat.com/prob/p130896', 'comboString': 'https://codingbat.com/prob/p168564', 'nonStart': 'https://codingbat.com/prob/p143825', 'left2': 'https://codingbat.com/prob/p197720', 'right2': 'https://codingbat.com/prob/p130781', 'theEnd': 'https://codingbat.com/prob/p162477', 'withouEnd2': 'https://codingbat.com/prob/p174254', 'middleTwo': 'https://codingbat.com/prob/p137729', 'endsLy': 'https://codingbat.com/prob/p103895', 'nTwice': 'https://codingbat.com/prob/p174148', 'twoChar': 'https://codingbat.com/prob/p144623', 'middleThree': 'https://codingbat.com/prob/p115863', 'hasBad': 'https://codingbat.com/prob/p139075', 'atFirst': 'https://codingbat.com/prob/p139076', 'lastChars': 'https://codingbat.com/prob/p138183', 'conCat': 'https://codingbat.com/prob/p132118', 'lastTwo': 'https://codingbat.com/prob/p194786', 'seeColor': 'https://codingbat.com/prob/p199216', 'frontAgain': 'https://codingbat.com/prob/p196652', 'minCat': 'https://codingbat.com/prob/p105745', 'extraFront': 'https://codingbat.com/prob/p172063', 'without2': 'https://codingbat.com/prob/p142247', 'deFront': 'https://codingbat.com/prob/p110141', 'startWord': 'https://codingbat.com/prob/p141494', 'withoutX': 'https://codingbat.com/prob/p151940', 'withoutX2': 'https://codingbat.com/prob/p151359'}\n",
      "{'firstLast6': 'https://codingbat.com/prob/p185685', 'sameFirstLast': 'https://codingbat.com/prob/p118976', 'makePi': 'https://codingbat.com/prob/p167011', 'commonEnd': 'https://codingbat.com/prob/p191991', 'sum3': 'https://codingbat.com/prob/p175763', 'rotateLeft3': 'https://codingbat.com/prob/p185139', 'reverse3': 'https://codingbat.com/prob/p112409', 'maxEnd3': 'https://codingbat.com/prob/p146256', 'sum2': 'https://codingbat.com/prob/p190968', 'middleWay': 'https://codingbat.com/prob/p146449', 'makeEnds': 'https://codingbat.com/prob/p101230', 'has23': 'https://codingbat.com/prob/p171022', 'no23': 'https://codingbat.com/prob/p175689', 'makeLast': 'https://codingbat.com/prob/p137188', 'double23': 'https://codingbat.com/prob/p145365', 'fix23': 'https://codingbat.com/prob/p120347', 'start1': 'https://codingbat.com/prob/p109660', 'biggerTwo': 'https://codingbat.com/prob/p109537', 'makeMiddle': 'https://codingbat.com/prob/p199519', 'plusTwo': 'https://codingbat.com/prob/p180840', 'swapEnds': 'https://codingbat.com/prob/p118044', 'midThree': 'https://codingbat.com/prob/p155713', 'maxTriple': 'https://codingbat.com/prob/p185176', 'frontPiece': 'https://codingbat.com/prob/p142455', 'unlucky1': 'https://codingbat.com/prob/p197308', 'make2': 'https://codingbat.com/prob/p143461', 'front11': 'https://codingbat.com/prob/p128270'}\n",
      "{'cigarParty': 'https://codingbat.com/prob/p159531', 'dateFashion': 'https://codingbat.com/prob/p103360', 'squirrelPlay': 'https://codingbat.com/prob/p141061', 'caughtSpeeding': 'https://codingbat.com/prob/p157733', 'sortaSum': 'https://codingbat.com/prob/p183071', 'alarmClock': 'https://codingbat.com/prob/p160543', 'love6': 'https://codingbat.com/prob/p137742', 'in1To10': 'https://codingbat.com/prob/p137365', 'specialEleven': 'https://codingbat.com/prob/p100962', 'more20': 'https://codingbat.com/prob/p118290', 'old35': 'https://codingbat.com/prob/p159612', 'less20': 'https://codingbat.com/prob/p133158', 'nearTen': 'https://codingbat.com/prob/p193613', 'teenSum': 'https://codingbat.com/prob/p178728', 'answerCell': 'https://codingbat.com/prob/p110973', 'teaParty': 'https://codingbat.com/prob/p177181', 'fizzString': 'https://codingbat.com/prob/p137136', 'fizzString2': 'https://codingbat.com/prob/p115243', 'twoAsOne': 'https://codingbat.com/prob/p113261', 'inOrder': 'https://codingbat.com/prob/p154188', 'inOrderEqual': 'https://codingbat.com/prob/p140272', 'lastDigit': 'https://codingbat.com/prob/p169213', 'lessBy10': 'https://codingbat.com/prob/p179196', 'withoutDoubles': 'https://codingbat.com/prob/p115233', 'maxMod5': 'https://codingbat.com/prob/p115384', 'redTicket': 'https://codingbat.com/prob/p170833', 'greenTicket': 'https://codingbat.com/prob/p120633', 'blueTicket': 'https://codingbat.com/prob/p192267', 'shareDigit': 'https://codingbat.com/prob/p153748', 'sumLimit': 'https://codingbat.com/prob/p118077'}\n",
      "{'makeBricks': 'https://codingbat.com/prob/p183562', 'loneSum': 'https://codingbat.com/prob/p148972', 'luckySum': 'https://codingbat.com/prob/p130788', 'noTeenSum': 'https://codingbat.com/prob/p182879', 'roundSum': 'https://codingbat.com/prob/p186753', 'closeFar': 'https://codingbat.com/prob/p138990', 'blackjack': 'https://codingbat.com/prob/p117019', 'evenlySpaced': 'https://codingbat.com/prob/p198700', 'makeChocolate': 'https://codingbat.com/prob/p191363'}\n",
      "{'doubleChar': 'https://codingbat.com/prob/p165312', 'countHi': 'https://codingbat.com/prob/p147448', 'catDog': 'https://codingbat.com/prob/p111624', 'countCode': 'https://codingbat.com/prob/p123614', 'endOther': 'https://codingbat.com/prob/p126880', 'xyzThere': 'https://codingbat.com/prob/p136594', 'bobThere': 'https://codingbat.com/prob/p175762', 'xyBalance': 'https://codingbat.com/prob/p134250', 'mixString': 'https://codingbat.com/prob/p125185', 'repeatEnd': 'https://codingbat.com/prob/p152339', 'repeatFront': 'https://codingbat.com/prob/p128796', 'repeatSeparator': 'https://codingbat.com/prob/p109637', 'prefixAgain': 'https://codingbat.com/prob/p136417', 'xyzMiddle': 'https://codingbat.com/prob/p159772', 'getSandwich': 'https://codingbat.com/prob/p129952', 'sameStarChar': 'https://codingbat.com/prob/p194491', 'oneTwo': 'https://codingbat.com/prob/p122943', 'zipZap': 'https://codingbat.com/prob/p180759', 'starOut': 'https://codingbat.com/prob/p139564', 'plusOut': 'https://codingbat.com/prob/p170829', 'wordEnds': 'https://codingbat.com/prob/p147538'}\n",
      "{'countYZ': 'https://codingbat.com/prob/p199171', 'withoutString': 'https://codingbat.com/prob/p192570', 'equalIsNot': 'https://codingbat.com/prob/p141736', 'gHappy': 'https://codingbat.com/prob/p198664', 'countTriple': 'https://codingbat.com/prob/p195714', 'sumDigits': 'https://codingbat.com/prob/p197890', 'sameEnds': 'https://codingbat.com/prob/p131516', 'mirrorEnds': 'https://codingbat.com/prob/p139411', 'maxBlock': 'https://codingbat.com/prob/p179479', 'sumNumbers': 'https://codingbat.com/prob/p121193', 'notReplace': 'https://codingbat.com/prob/p154137'}\n",
      "{'countEvens': 'https://codingbat.com/prob/p162010', 'bigDiff': 'https://codingbat.com/prob/p196640', 'centeredAverage': 'https://codingbat.com/prob/p136585', 'sum13': 'https://codingbat.com/prob/p127384', 'sum67': 'https://codingbat.com/prob/p111327', 'has22': 'https://codingbat.com/prob/p121853', 'lucky13': 'https://codingbat.com/prob/p194525', 'sum28': 'https://codingbat.com/prob/p199612', 'more14': 'https://codingbat.com/prob/p104627', 'fizzArray': 'https://codingbat.com/prob/p180920', 'only14': 'https://codingbat.com/prob/p186672', 'fizzArray2': 'https://codingbat.com/prob/p178353', 'no14': 'https://codingbat.com/prob/p136648', 'isEverywhere': 'https://codingbat.com/prob/p110222', 'either24': 'https://codingbat.com/prob/p191878', 'matchUp': 'https://codingbat.com/prob/p136254', 'has77': 'https://codingbat.com/prob/p168357', 'has12': 'https://codingbat.com/prob/p169260', 'modThree': 'https://codingbat.com/prob/p159979', 'haveThree': 'https://codingbat.com/prob/p109783', 'twoTwo': 'https://codingbat.com/prob/p102145', 'sameEnds': 'https://codingbat.com/prob/p134300', 'tripleUp': 'https://codingbat.com/prob/p137874', 'fizzArray3': 'https://codingbat.com/prob/p142539', 'shiftLeft': 'https://codingbat.com/prob/p105031', 'tenRun': 'https://codingbat.com/prob/p199484', 'pre4': 'https://codingbat.com/prob/p100246', 'post4': 'https://codingbat.com/prob/p164144', 'notAlone': 'https://codingbat.com/prob/p169506', 'zeroFront': 'https://codingbat.com/prob/p193753', 'withoutTen': 'https://codingbat.com/prob/p196976', 'zeroMax': 'https://codingbat.com/prob/p187050', 'evenOdd': 'https://codingbat.com/prob/p105771', 'fizzBuzz': 'https://codingbat.com/prob/p153059'}\n",
      "{'maxSpan': 'https://codingbat.com/prob/p189576', 'fix34': 'https://codingbat.com/prob/p159339', 'fix45': 'https://codingbat.com/prob/p125819', 'canBalance': 'https://codingbat.com/prob/p158767', 'linearIn': 'https://codingbat.com/prob/p134022', 'squareUp': 'https://codingbat.com/prob/p155405', 'seriesUp': 'https://codingbat.com/prob/p104090', 'maxMirror': 'https://codingbat.com/prob/p196409', 'countClumps': 'https://codingbat.com/prob/p193817'}\n",
      "{'scoresIncreasing': 'https://codingbat.com/prob/p146974', 'scores100': 'https://codingbat.com/prob/p179487', 'scoresClump': 'https://codingbat.com/prob/p194530', 'scoresAverage': 'https://codingbat.com/prob/p123837', 'wordsCount': 'https://codingbat.com/prob/p124620', 'wordsFront': 'https://codingbat.com/prob/p183837', 'wordsWithoutList': 'https://codingbat.com/prob/p183407', 'hasOne': 'https://codingbat.com/prob/p191212', 'dividesSelf': 'https://codingbat.com/prob/p165941', 'copyEvens': 'https://codingbat.com/prob/p134174', 'copyEndy': 'https://codingbat.com/prob/p130124', 'matchUp': 'https://codingbat.com/prob/p139677', 'scoreUp': 'https://codingbat.com/prob/p180365', 'wordsWithout': 'https://codingbat.com/prob/p121236', 'scoresSpecial': 'https://codingbat.com/prob/p140485', 'sumHeights': 'https://codingbat.com/prob/p148138', 'sumHeights2': 'https://codingbat.com/prob/p157900', 'bigHeights': 'https://codingbat.com/prob/p197710', 'userCompare': 'https://codingbat.com/prob/p143482', 'mergeTwo': 'https://codingbat.com/prob/p139150', 'commonTwo': 'https://codingbat.com/prob/p100369'}\n",
      "{'factorial': 'https://codingbat.com/prob/p154669', 'bunnyEars': 'https://codingbat.com/prob/p183649', 'fibonacci': 'https://codingbat.com/prob/p120015', 'bunnyEars2': 'https://codingbat.com/prob/p107330', 'triangle': 'https://codingbat.com/prob/p194781', 'sumDigits': 'https://codingbat.com/prob/p163932', 'count7': 'https://codingbat.com/prob/p101409', 'count8': 'https://codingbat.com/prob/p192383', 'powerN': 'https://codingbat.com/prob/p158888', 'countX': 'https://codingbat.com/prob/p170371', 'countHi': 'https://codingbat.com/prob/p184029', 'changeXY': 'https://codingbat.com/prob/p101372', 'changePi': 'https://codingbat.com/prob/p170924', 'noX': 'https://codingbat.com/prob/p118230', 'array6': 'https://codingbat.com/prob/p108997', 'array11': 'https://codingbat.com/prob/p135988', 'array220': 'https://codingbat.com/prob/p173469', 'allStar': 'https://codingbat.com/prob/p183394', 'pairStar': 'https://codingbat.com/prob/p158175', 'endX': 'https://codingbat.com/prob/p105722', 'countPairs': 'https://codingbat.com/prob/p154048', 'countAbc': 'https://codingbat.com/prob/p161124', 'count11': 'https://codingbat.com/prob/p167015', 'stringClean': 'https://codingbat.com/prob/p104029', 'countHi2': 'https://codingbat.com/prob/p143900', 'parenBit': 'https://codingbat.com/prob/p137918', 'nestParen': 'https://codingbat.com/prob/p183174', 'strCount': 'https://codingbat.com/prob/p186177', 'strCopies': 'https://codingbat.com/prob/p118182', 'strDist': 'https://codingbat.com/prob/p195413'}\n",
      "{'groupSum': 'https://codingbat.com/prob/p145416', 'groupSum6': 'https://codingbat.com/prob/p199368', 'groupNoAdj': 'https://codingbat.com/prob/p169605', 'groupSum5': 'https://codingbat.com/prob/p138907', 'groupSumClump': 'https://codingbat.com/prob/p105136', 'splitArray': 'https://codingbat.com/prob/p185204', 'splitOdd10': 'https://codingbat.com/prob/p171660', 'split53': 'https://codingbat.com/prob/p168295'}\n",
      "{'mapBully': 'https://codingbat.com/prob/p197888', 'mapShare': 'https://codingbat.com/prob/p148813', 'mapAB': 'https://codingbat.com/prob/p107259', 'topping1': 'https://codingbat.com/prob/p182712', 'topping2': 'https://codingbat.com/prob/p196458', 'topping3': 'https://codingbat.com/prob/p128461', 'mapAB2': 'https://codingbat.com/prob/p115011', 'mapAB3': 'https://codingbat.com/prob/p115012', 'mapAB4': 'https://codingbat.com/prob/p136950'}\n",
      "{'word0': 'https://codingbat.com/prob/p152303', 'wordLen': 'https://codingbat.com/prob/p125327', 'pairs': 'https://codingbat.com/prob/p126332', 'wordCount': 'https://codingbat.com/prob/p117630', 'firstChar': 'https://codingbat.com/prob/p168493', 'wordAppend': 'https://codingbat.com/prob/p103593', 'wordMultiple': 'https://codingbat.com/prob/p190862', 'allSwap': 'https://codingbat.com/prob/p134133', 'firstSwap': 'https://codingbat.com/prob/p150113'}\n",
      "{'doubling': 'https://codingbat.com/prob/p117665', 'square': 'https://codingbat.com/prob/p139586', 'addStar': 'https://codingbat.com/prob/p170181', 'copies3': 'https://codingbat.com/prob/p181634', 'moreY': 'https://codingbat.com/prob/p177528', 'math1': 'https://codingbat.com/prob/p103869', 'rightDigit': 'https://codingbat.com/prob/p152194', 'lower': 'https://codingbat.com/prob/p186894', 'noX': 'https://codingbat.com/prob/p105967'}\n",
      "{'noNeg': 'https://codingbat.com/prob/p103456', 'no9': 'https://codingbat.com/prob/p124510', 'noTeen': 'https://codingbat.com/prob/p137274', 'noZ': 'https://codingbat.com/prob/p105671', 'noLong': 'https://codingbat.com/prob/p194496', 'no34': 'https://codingbat.com/prob/p184496', 'noYY': 'https://codingbat.com/prob/p115967', 'two2': 'https://codingbat.com/prob/p148198', 'square56': 'https://codingbat.com/prob/p132748'}\n"
     ],
     "output_type": "stream"
    }
   ],
   "source": [
    "for item in prob_list:\n",
    "    print(item)"
   ],
   "metadata": {
    "collapsed": false,
    "pycharm": {
     "name": "#%%\n",
     "is_executing": false
    }
   }
  },
  {
   "cell_type": "code",
   "execution_count": 73,
   "outputs": [
    {
     "name": "stdout",
     "text": [
      "{'sleepIn': 'https://codingbat.com/prob/p187868', 'monkeyTrouble': 'https://codingbat.com/prob/p181646', 'sumDouble': 'https://codingbat.com/prob/p154485', 'diff21': 'https://codingbat.com/prob/p116624', 'parrotTrouble': 'https://codingbat.com/prob/p140449', 'makes10': 'https://codingbat.com/prob/p182873', 'nearHundred': 'https://codingbat.com/prob/p184004', 'posNeg': 'https://codingbat.com/prob/p159227', 'notString': 'https://codingbat.com/prob/p191914', 'missingChar': 'https://codingbat.com/prob/p190570', 'frontBack': 'https://codingbat.com/prob/p123384', 'front3': 'https://codingbat.com/prob/p136351', 'backAround': 'https://codingbat.com/prob/p161642', 'or35': 'https://codingbat.com/prob/p112564', 'front22': 'https://codingbat.com/prob/p183592', 'startHi': 'https://codingbat.com/prob/p191022', 'icyHot': 'https://codingbat.com/prob/p192082', 'in1020': 'https://codingbat.com/prob/p144535', 'hasTeen': 'https://codingbat.com/prob/p178986', 'loneTeen': 'https://codingbat.com/prob/p165701', 'delDel': 'https://codingbat.com/prob/p100905', 'mixStart': 'https://codingbat.com/prob/p151713', 'startOz': 'https://codingbat.com/prob/p199720', 'intMax': 'https://codingbat.com/prob/p101887', 'close10': 'https://codingbat.com/prob/p172021', 'in3050': 'https://codingbat.com/prob/p132134', 'max1020': 'https://codingbat.com/prob/p177372', 'stringE': 'https://codingbat.com/prob/p173784', 'lastDigit': 'https://codingbat.com/prob/p125339', 'endUp': 'https://codingbat.com/prob/p125268', 'everyNth': 'https://codingbat.com/prob/p196441'}\n"
     ],
     "output_type": "stream"
    }
   ],
   "source": [
    "for item_dict in prob_list[:1]:\n",
    "    print(item_dict)"
   ],
   "metadata": {
    "collapsed": false,
    "pycharm": {
     "name": "#%%\n",
     "is_executing": false
    }
   }
  },
  {
   "cell_type": "code",
   "execution_count": 155,
   "outputs": [],
   "source": [
    "q_dict = []\n",
    "for item_dict in prob_list:\n",
    "    for link in item_dict.values():\n",
    "        page = requests.get(link, headers={'user-agent': user_agent.chrome})\n",
    "        data = write_and_read(page)\n",
    "        soup = BeautifulSoup(data, 'lxml')\n",
    "        # print(soup.find('p', attrs={'class' : 'max2'}))\n",
    "        q_dict.append(soup.find('p', attrs={'class' : 'max2'}).string)\n",
    "        \n",
    "        "
   ],
   "metadata": {
    "collapsed": false,
    "pycharm": {
     "name": "#%%\n",
     "is_executing": false
    }
   }
  },
  {
   "cell_type": "code",
   "execution_count": 156,
   "outputs": [
    {
     "name": "stdout",
     "text": [
      "The parameter weekday is true if it is a weekday, and the parameter vacation is true if we are on vacation. We sleep in if it is not a weekday or we're on vacation. Return true if we sleep in.\n"
     ],
     "output_type": "stream"
    }
   ],
   "source": [
    "# print(q_dict)\n",
    "for question in q_dict[:1]:\n",
    "    print(question)"
   ],
   "metadata": {
    "collapsed": false,
    "pycharm": {
     "name": "#%%\n",
     "is_executing": false
    }
   }
  },
  {
   "cell_type": "code",
   "execution_count": null,
   "outputs": [],
   "source": [
    "url = 'https://codingbat.com/java/Warmup-1'\n",
    "page = requests.get(url, headers={'user-agent':user_agent.chrome})\n",
    "\n",
    "with open('file_test.txt', 'w') as file:\n",
    "    file.write(page.content.decode('utf-8')) if type(page.content) == bytes else file.write(page.content)\n",
    "\n",
    "with open('file_test.txt', 'r') as file:\n",
    "    data = file.read()"
   ],
   "metadata": {
    "collapsed": false,
    "pycharm": {
     "name": "#%%\n"
    }
   }
  },
  {
   "cell_type": "code",
   "execution_count": 65,
   "outputs": [],
   "source": [
    "soup = BeautifulSoup(data, 'lxml')\n"
   ],
   "metadata": {
    "collapsed": false,
    "pycharm": {
     "name": "#%%\n",
     "is_executing": false
    }
   }
  },
  {
   "cell_type": "code",
   "execution_count": 66,
   "outputs": [
    {
     "name": "stdout",
     "text": [
      "<html><head><meta charset=\"utf-8\"/>\n",
      "<link href=\"/codingbat.css\" rel=\"stylesheet\" type=\"text/css\"/>\n",
      "<title>CodingBat Java Warmup-1</title></head><body>\n",
      "<div style=\"float:right;  margin:0px; border: 1px solid lightgray;\"><table><form action=\"/login\" method=\"post\"><tr><td>id/email</td><td><input name=\"uname\" size=\"20\" type=\"text\"/></td></tr><tr><td>password</td><td><input name=\"pw\" size=\"20\" type=\"password\"/></td></tr><tr><td></td><td><input name=\"dologin\" type=\"submit\" value=\"log in\"/></td></tr> <input name=\"fromurl\" type=\"hidden\" value=\"/java/Warmup-1\"/></form><tr><td colspan=\"2\"><a href=\"/reset\">forgot password</a> | <a href=\"/pref?docreate=1\">create account</a></td></tr></table></div><div style=\"float:right\"><table><tr><td colspan=\"1\" style=\"text-align:right\" valign=\"top\"><a href=\"/about.html\">about</a> | <a href=\"/help.html\">help</a> | <a href=\"/doc/code-help-videos.html\">code help+videos | </a><a href=\"/done\">done</a> | <a href=\"/pref\">prefs</a> </td></tr></table></div><a href=\"/\"><span style=\"font-size:200%;\">CodingBat</span></a> code practice<div class=\"pretab\"><p class=\"max\"> </p></div><div class=\"tabc\"><nav><ul><li class=\"h2\" id=\"selected\"><a href=\"/java\">Java</a></li><li class=\"h2\"><a href=\"/python\">Python</a></li></ul></nav><div class=\"tabin\"><div class=\"indent\"><span class=\"h2\">Warmup-1</span> <img src=\"/s1.jpg\"/><img src=\"/s1.jpg\"/><img src=\"/s1.jpg\"/><img src=\"/s1.jpg\"/><img src=\"/s1.jpg\"/><img src=\"/s1.jpg\"/><img src=\"/s1.jpg\"/><img src=\"/s1.jpg\"/><a href=\"/java/Warmup-1?chance=1\" rel=\"nofollow\" style=\"margin-left:80px\">chance</a><p style=\"max-width:800px\">Simple warmup problems to get started (solutions available). <b>New</b> videos: <a href=\"/doc/java-string-introduction.html\">String Introduction</a>, <a href=\"/doc/java-string-substring.html\">String Substring</a>, <a href=\"/doc/java-if-boolean-example-solution-code-1.html\">If Boolean Logic 1</a>, <a href=\"/doc/java-if-boolean-example-solution-code-2.html\">If Boolean Logic 2</a><br/></p><table><tr><td width=\"200\"> <img src=\"/c1.jpg\"/><a href=\"/prob/p187868\">sleepIn</a> <font color=\"gray\">H</font> </td><td width=\"200\"> <img src=\"/c1.jpg\"/><a href=\"/prob/p181646\">monkeyTrouble</a> <font color=\"gray\">H</font> </td><td width=\"200\"> <img src=\"/c1.jpg\"/><a href=\"/prob/p154485\">sumDouble</a> <font color=\"gray\">H</font> </td></tr>\n",
      "<tr><td width=\"200\"> <img src=\"/c1.jpg\"/><a href=\"/prob/p116624\">diff21</a> <font color=\"gray\">H</font> </td><td width=\"200\"> <img src=\"/c1.jpg\"/><a href=\"/prob/p140449\">parrotTrouble</a> <font color=\"gray\">H</font> </td><td width=\"200\"> <img src=\"/c1.jpg\"/><a href=\"/prob/p182873\">makes10</a> <font color=\"gray\">H</font> </td></tr>\n",
      "<tr><td width=\"200\"> <img src=\"/c1.jpg\"/><a href=\"/prob/p184004\">nearHundred</a> <font color=\"gray\">H</font> </td><td width=\"200\"> <img src=\"/c1.jpg\"/><a href=\"/prob/p159227\">posNeg</a> <font color=\"gray\">H</font> </td><td width=\"200\"> <img src=\"/c1.jpg\"/><a href=\"/prob/p191914\">notString</a> <font color=\"gray\">H</font> </td></tr>\n",
      "<tr><td width=\"200\"> <img src=\"/c1.jpg\"/><a href=\"/prob/p190570\">missingChar</a> <font color=\"gray\">H</font> </td><td width=\"200\"> <img src=\"/c1.jpg\"/><a href=\"/prob/p123384\">frontBack</a> <font color=\"gray\">H</font> </td><td width=\"200\"> <img src=\"/c1.jpg\"/><a href=\"/prob/p136351\">front3</a> <font color=\"gray\">H</font> </td></tr>\n",
      "<tr><td width=\"200\"> <img src=\"/c1.jpg\"/><a href=\"/prob/p161642\">backAround</a> <font color=\"gray\">H</font> </td><td width=\"200\"> <img src=\"/c1.jpg\"/><a href=\"/prob/p112564\">or35</a> <font color=\"gray\">H</font> </td><td width=\"200\"> <img src=\"/c1.jpg\"/><a href=\"/prob/p183592\">front22</a> <font color=\"gray\">H</font> </td></tr>\n",
      "<tr><td width=\"200\"> <img src=\"/c1.jpg\"/><a href=\"/prob/p191022\">startHi</a> <font color=\"gray\">H</font> </td><td width=\"200\"> <img src=\"/c1.jpg\"/><a href=\"/prob/p192082\">icyHot</a> <font color=\"gray\">H</font> </td><td width=\"200\"> <img src=\"/c1.jpg\"/><a href=\"/prob/p144535\">in1020</a> <font color=\"gray\">H</font> </td></tr>\n",
      "<tr><td width=\"200\"> <img src=\"/c1.jpg\"/><a href=\"/prob/p178986\">hasTeen</a> <font color=\"gray\">H</font> </td><td width=\"200\"> <img src=\"/c1.jpg\"/><a href=\"/prob/p165701\">loneTeen</a> <font color=\"gray\">H</font> </td><td width=\"200\"> <img src=\"/c1.jpg\"/><a href=\"/prob/p100905\">delDel</a> <font color=\"gray\">H</font> </td></tr>\n",
      "<tr><td width=\"200\"> <img src=\"/c1.jpg\"/><a href=\"/prob/p151713\">mixStart</a> <font color=\"gray\">H</font> </td><td width=\"200\"> <img src=\"/c1.jpg\"/><a href=\"/prob/p199720\">startOz</a> <font color=\"gray\">H</font> </td><td width=\"200\"> <img src=\"/c1.jpg\"/><a href=\"/prob/p101887\">intMax</a> <font color=\"gray\">H</font> </td></tr>\n",
      "<tr><td width=\"200\"> <img src=\"/c1.jpg\"/><a href=\"/prob/p172021\">close10</a> <font color=\"gray\">H</font> </td><td width=\"200\"> <img src=\"/c1.jpg\"/><a href=\"/prob/p132134\">in3050</a> <font color=\"gray\">H</font> </td><td width=\"200\"> <img src=\"/c1.jpg\"/><a href=\"/prob/p177372\">max1020</a> <font color=\"gray\">H</font> </td></tr>\n",
      "<tr><td width=\"200\"> <img src=\"/c1.jpg\"/><a href=\"/prob/p173784\">stringE</a> <font color=\"gray\">H</font> </td><td width=\"200\"> <img src=\"/c1.jpg\"/><a href=\"/prob/p125339\">lastDigit</a> <font color=\"gray\">H</font> </td><td width=\"200\"> <img src=\"/c1.jpg\"/><a href=\"/prob/p125268\">endUp</a> <font color=\"gray\">H</font> </td></tr>\n",
      "<tr><td width=\"200\"> <img src=\"/c1.jpg\"/><a href=\"/prob/p196441\">everyNth</a> <font color=\"gray\">H</font> </td></tr></table>\n",
      "<p></p><h3>Java Help</h3><p style=\"max-width:800px\"></p><ul><li><a href=\"/doc/java-example-solution-code.html\">Java Example Solution Code</a></li><li><a href=\"/doc/java-string-introduction.html\">Java String Introduction</a> (video) </li><li><a href=\"/doc/java-string-substring.html\">Java Substring v2</a> (video)</li><li><a href=\"/doc/java-string-equals-loops.html\">Java String Equals and Loops</a></li><li><a href=\"/doc/java-string-indexof-parsing.html\">Java String indexOf and Parsing</a></li><li><a href=\"/doc/java-if-boolean-logic.html\">Java If and Boolean Logic</a></li><li>  <a href=\"/doc/java-if-boolean-example-solution-code-1.html\">If Boolean Logic Example Solution Code 1</a> (video)</li><li>  <a href=\"/doc/java-if-boolean-example-solution-code-2.html\">If Boolean Logic Example Solution Code 2</a> (video)</li><li><a href=\"/doc/java-for-while-loops.html\">Java For and While Loops</a></li><li><a href=\"/doc/java-array-loops.html\">Java Arrays and Loops</a></li><li><a href=\"/doc/java-map-introduction.html\">Java Map Introduction</a></li><li><a href=\"/doc/java-map-wordcount.html\">Java Map WordCount</a></li><li><a href=\"/doc/java-functional-mapping.html\">Java Functional Mapping</a></li><li><a href=\"/doc/java-functional-filtering.html\">Java Functional Filtering</a></li></ul><p style=\"max-width:800px\"></p><h3>Misc Code Practice</h3><ul><li><a href=\"/doc/practice/code-badges.html\">Code Badges</a></li><li><a href=\"/doc/practice/mod-introduction.html\">Introduction to Mod</a> (video)</li><li><a href=\"/doc/practice/makebricks-introduction.html\">MakeBricks problem and solution</a> (video x 2)</li><li><a href=\"/doc/practice/fizzbuzz-code.html\">FizzBuzz the famous</a> code interview question (video)</li></ul></div></div></div><p style=\"font-size:x-small;\">Copyright <a href=\"http://www-cs-faculty.stanford.edu/~nick\" style=\"font-size:x-small;\">Nick Parlante</a> 2017 - <a href=\"/privacy.html\" style=\"font-size:x-small;\">privacy</a></p></body>\n",
      "</html>\n"
     ],
     "output_type": "stream"
    }
   ],
   "source": [
    "print(soup.html)"
   ],
   "metadata": {
    "collapsed": false,
    "pycharm": {
     "name": "#%%\n",
     "is_executing": false
    }
   }
  },
  {
   "cell_type": "code",
   "execution_count": 68,
   "outputs": [
    {
     "name": "stdout",
     "text": [
      "['sleepIn', 'monkeyTrouble', 'sumDouble', 'diff21', 'parrotTrouble', 'makes10', 'nearHundred', 'posNeg', 'notString', 'missingChar', 'frontBack', 'front3', 'backAround', 'or35', 'front22', 'startHi', 'icyHot', 'in1020', 'hasTeen', 'loneTeen', 'delDel', 'mixStart', 'startOz', 'intMax', 'close10', 'in3050', 'max1020', 'stringE', 'lastDigit', 'endUp', 'everyNth']\n"
     ],
     "output_type": "stream"
    }
   ],
   "source": [
    "name = [td.a.string for td in soup.find_all('td', attrs={'width': 200})]\n",
    "\n",
    "print(name)\n",
    " "
   ],
   "metadata": {
    "collapsed": false,
    "pycharm": {
     "name": "#%%\n",
     "is_executing": false
    }
   }
  },
  {
   "cell_type": "code",
   "execution_count": 63,
   "outputs": [
    {
     "name": "stdout",
     "text": [
      "[<td width=\"200\"> <img src=\"/c1.jpg\"/><a href=\"/prob/p187868\">sleepIn</a> <font color=\"gray\">H</font> </td>, <td width=\"200\"> <img src=\"/c1.jpg\"/><a href=\"/prob/p181646\">monkeyTrouble</a> <font color=\"gray\">H</font> </td>, <td width=\"200\"> <img src=\"/c1.jpg\"/><a href=\"/prob/p154485\">sumDouble</a> <font color=\"gray\">H</font> </td>, <td width=\"200\"> <img src=\"/c1.jpg\"/><a href=\"/prob/p116624\">diff21</a> <font color=\"gray\">H</font> </td>, <td width=\"200\"> <img src=\"/c1.jpg\"/><a href=\"/prob/p140449\">parrotTrouble</a> <font color=\"gray\">H</font> </td>, <td width=\"200\"> <img src=\"/c1.jpg\"/><a href=\"/prob/p182873\">makes10</a> <font color=\"gray\">H</font> </td>, <td width=\"200\"> <img src=\"/c1.jpg\"/><a href=\"/prob/p184004\">nearHundred</a> <font color=\"gray\">H</font> </td>, <td width=\"200\"> <img src=\"/c1.jpg\"/><a href=\"/prob/p159227\">posNeg</a> <font color=\"gray\">H</font> </td>, <td width=\"200\"> <img src=\"/c1.jpg\"/><a href=\"/prob/p191914\">notString</a> <font color=\"gray\">H</font> </td>, <td width=\"200\"> <img src=\"/c1.jpg\"/><a href=\"/prob/p190570\">missingChar</a> <font color=\"gray\">H</font> </td>, <td width=\"200\"> <img src=\"/c1.jpg\"/><a href=\"/prob/p123384\">frontBack</a> <font color=\"gray\">H</font> </td>, <td width=\"200\"> <img src=\"/c1.jpg\"/><a href=\"/prob/p136351\">front3</a> <font color=\"gray\">H</font> </td>, <td width=\"200\"> <img src=\"/c1.jpg\"/><a href=\"/prob/p161642\">backAround</a> <font color=\"gray\">H</font> </td>, <td width=\"200\"> <img src=\"/c1.jpg\"/><a href=\"/prob/p112564\">or35</a> <font color=\"gray\">H</font> </td>, <td width=\"200\"> <img src=\"/c1.jpg\"/><a href=\"/prob/p183592\">front22</a> <font color=\"gray\">H</font> </td>, <td width=\"200\"> <img src=\"/c1.jpg\"/><a href=\"/prob/p191022\">startHi</a> <font color=\"gray\">H</font> </td>, <td width=\"200\"> <img src=\"/c1.jpg\"/><a href=\"/prob/p192082\">icyHot</a> <font color=\"gray\">H</font> </td>, <td width=\"200\"> <img src=\"/c1.jpg\"/><a href=\"/prob/p144535\">in1020</a> <font color=\"gray\">H</font> </td>, <td width=\"200\"> <img src=\"/c1.jpg\"/><a href=\"/prob/p178986\">hasTeen</a> <font color=\"gray\">H</font> </td>, <td width=\"200\"> <img src=\"/c1.jpg\"/><a href=\"/prob/p165701\">loneTeen</a> <font color=\"gray\">H</font> </td>, <td width=\"200\"> <img src=\"/c1.jpg\"/><a href=\"/prob/p100905\">delDel</a> <font color=\"gray\">H</font> </td>, <td width=\"200\"> <img src=\"/c1.jpg\"/><a href=\"/prob/p151713\">mixStart</a> <font color=\"gray\">H</font> </td>, <td width=\"200\"> <img src=\"/c1.jpg\"/><a href=\"/prob/p199720\">startOz</a> <font color=\"gray\">H</font> </td>, <td width=\"200\"> <img src=\"/c1.jpg\"/><a href=\"/prob/p101887\">intMax</a> <font color=\"gray\">H</font> </td>, <td width=\"200\"> <img src=\"/c1.jpg\"/><a href=\"/prob/p172021\">close10</a> <font color=\"gray\">H</font> </td>, <td width=\"200\"> <img src=\"/c1.jpg\"/><a href=\"/prob/p132134\">in3050</a> <font color=\"gray\">H</font> </td>, <td width=\"200\"> <img src=\"/c1.jpg\"/><a href=\"/prob/p177372\">max1020</a> <font color=\"gray\">H</font> </td>, <td width=\"200\"> <img src=\"/c1.jpg\"/><a href=\"/prob/p173784\">stringE</a> <font color=\"gray\">H</font> </td>, <td width=\"200\"> <img src=\"/c1.jpg\"/><a href=\"/prob/p125339\">lastDigit</a> <font color=\"gray\">H</font> </td>, <td width=\"200\"> <img src=\"/c1.jpg\"/><a href=\"/prob/p125268\">endUp</a> <font color=\"gray\">H</font> </td>, <td width=\"200\"> <img src=\"/c1.jpg\"/><a href=\"/prob/p196441\">everyNth</a> <font color=\"gray\">H</font> </td>]\n"
     ],
     "output_type": "stream"
    }
   ],
   "source": [
    "print(soup.find_all('td', attrs={'width': 200}))"
   ],
   "metadata": {
    "collapsed": false,
    "pycharm": {
     "name": "#%%\n",
     "is_executing": false
    }
   }
  },
  {
   "cell_type": "code",
   "execution_count": 148,
   "outputs": [
    {
     "name": "stdout",
     "text": [
      "<p class=\"max2\">We have two monkeys, a and b, and the parameters aSmile and bSmile indicate if each is smiling. We are in trouble if they are both smiling or if neither of them is smiling. Return true if we are in trouble.</p>\n"
     ],
     "output_type": "stream"
    }
   ],
   "source": [
    "link = 'https://codingbat.com/prob/p181646'\n",
    "page = requests.get(link, headers={'user-agent': user_agent.chrome})\n",
    "data = write_and_read(page)\n",
    "soup = BeautifulSoup(data, 'lxml')\n",
    "print(soup.find('p', attrs={'class' : 'max2'}))\n",
    "\n",
    "br = soup.find('div', attrs={'class' : 'minh'})"
   ],
   "metadata": {
    "collapsed": false,
    "pycharm": {
     "name": "#%%\n",
     "is_executing": false
    }
   }
  },
  {
   "cell_type": "code",
   "execution_count": 161,
   "outputs": [],
   "source": [
    "siblings_of_statement = br.next_siblings\n",
    "\n",
    "for sibling in siblings_of_statement:\n",
    "    if sibling.string is not None:\n",
    "        print(sibling)\n",
    " "
   ],
   "metadata": {
    "collapsed": false,
    "pycharm": {
     "name": "#%%\n",
     "is_executing": false
    }
   }
  },
  {
   "cell_type": "code",
   "execution_count": 80,
   "outputs": [],
   "source": [
    "list = [table.tbody for table in soup.find('table')]\n"
   ],
   "metadata": {
    "collapsed": false,
    "pycharm": {
     "name": "#%%\n",
     "is_executing": false
    }
   }
  },
  {
   "cell_type": "code",
   "execution_count": 88,
   "outputs": [
    {
     "name": "stdout",
     "text": [
      "[]\n"
     ],
     "output_type": "stream"
    }
   ],
   "source": [
    "print(soup.find_all('table', attrs={'border' : 0}, string=True))"
   ],
   "metadata": {
    "collapsed": false,
    "pycharm": {
     "name": "#%%\n",
     "is_executing": false
    }
   }
  },
  {
   "cell_type": "code",
   "execution_count": 92,
   "outputs": [
    {
     "name": "stdout",
     "text": [
      "None\n"
     ],
     "output_type": "stream"
    }
   ],
   "source": [
    "print(soup.string)"
   ],
   "metadata": {
    "collapsed": false,
    "pycharm": {
     "name": "#%%\n",
     "is_executing": false
    }
   }
  },
  {
   "cell_type": "code",
   "execution_count": null,
   "outputs": [],
   "source": [
    "\n"
   ],
   "metadata": {
    "collapsed": false,
    "pycharm": {
     "name": "#%%\n"
    }
   }
  }
 ],
 "metadata": {
  "kernelspec": {
   "display_name": "Python 3",
   "language": "python",
   "name": "python3"
  },
  "language_info": {
   "codemirror_mode": {
    "name": "ipython",
    "version": 2
   },
   "file_extension": ".py",
   "mimetype": "text/x-python",
   "name": "python",
   "nbconvert_exporter": "python",
   "pygments_lexer": "ipython2",
   "version": "2.7.6"
  },
  "pycharm": {
   "stem_cell": {
    "cell_type": "raw",
    "source": [],
    "metadata": {
     "collapsed": false
    }
   }
  }
 },
 "nbformat": 4,
 "nbformat_minor": 0
}