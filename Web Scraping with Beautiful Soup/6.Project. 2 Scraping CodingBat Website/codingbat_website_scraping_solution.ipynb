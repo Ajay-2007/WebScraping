{
 "cells": [],
 "metadata": {
  "kernelspec": {
   "display_name": "Python 3",
   "language": "python",
   "name": "python3"
  },
  "language_info": {
   "codemirror_mode": {
    "name": "ipython",
    "version": 2
   },
   "file_extension": ".py",
   "mimetype": "text/x-python",
   "name": "python",
   "nbconvert_exporter": "python",
   "pygments_lexer": "ipython2",
   "version": "2.7.6"
  },
  "pycharm": {
   "stem_cell": {
    "cell_type": "raw",
    "source": [
     "    #%%\n",
     "    \n",
     "    import requests\n",
     "    from bs4 import BeautifulSoup\n",
     "    from fake_useragent import UserAgent\n",
     "    \n",
     "    #%%\n",
     "    \n",
     "    print('test')\n",
     "    \n",
     "    #%%\n",
     "    \n",
     "    user_agent = UserAgent()\n",
     "    headers = {'user-agent' : user_agent.chrome}\n",
     "    main_url = 'https://codingbat.com/java'\n",
     "    page = requests.get(main_url, headers=headers)\n",
     "    soup = BeautifulSoup(page.content, 'lxml')\n",
     "    \n",
     "    base_url = 'https://codingbat.com'\n",
     "    \n",
     "    all_divs = soup.find_all('div', class_='sum')\n",
     "    \n",
     "    all_links = [base_url + div.a['href'] for div in all_divs]\n",
     "    \n",
     "    for link in all_links:\n",
     "        inner_page = requests.get(link, headers=headers)\n",
     "        inner_soup = BeautifulSoup(inner_page.content, 'lxml')\n",
     "        div = inner_soup.find('div', class_='tabc')\n",
     "        # for td in div.table.find_all('td'):\n",
     "        #     print(base_url + td.a['href'])\n",
     "        # break\n",
     "        question_links = [base_url + td.a['href'] for td in div.table.find_all('td')]\n",
     "        \n",
     "        for question_link in question_links:\n",
     "            print(question_link)\n",
     "            break\n",
     "        break\n",
     "        \n",
     "        for question_link in question_links:\n",
     "            final_page = request.get(question_link)\n",
     "            final_soup = BeautifulSoup(final_page.content, 'lxml')\n",
     "            indent_div = final_soup.find('div', class_='indent')\n",
     "            problem_statement = indent_div.table.div.string\n",
     "            \n",
     "            siblings_of_statement = indent_div.table.div.next_siblings\n",
     "            \n",
     "            for sibling in siblings_of_statement:\n",
     "                if sibling is not None:\n",
     "                    print(sibling)\n",
     "                break\n",
     "            break\n",
     "            \n",
     "    \n",
     "    #%%\n",
     "    \n",
     "    \n",
     "    \n"
    ],
    "metadata": {
     "collapsed": false
    }
   }
  }
 },
 "nbformat": 4,
 "nbformat_minor": 0
}