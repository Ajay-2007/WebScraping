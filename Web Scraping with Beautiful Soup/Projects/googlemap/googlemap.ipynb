{
 "cells": [
  {
   "cell_type": "code",
   "execution_count": 54,
   "metadata": {
    "ExecuteTime": {
     "end_time": "2020-05-02T14:21:13.300221Z",
     "start_time": "2020-05-02T14:21:13.289972Z"
    }
   },
   "outputs": [],
   "source": [
    "with open('apikey.txt') as f:\n",
    "    api_key = f.readline()\n",
    "    f.close"
   ]
  },
  {
   "cell_type": "code",
   "execution_count": 63,
   "metadata": {
    "ExecuteTime": {
     "end_time": "2020-05-02T14:22:14.325633Z",
     "start_time": "2020-05-02T14:22:14.320631Z"
    }
   },
   "outputs": [],
   "source": [
    "# import os\n",
    "# import gmaps\n",
    "\n",
    "# gmaps.configure(api_key=os.environ[\"GOOGLE_API_KEY\"])"
   ]
  },
  {
   "cell_type": "code",
   "execution_count": 56,
   "metadata": {
    "ExecuteTime": {
     "end_time": "2020-05-02T14:21:14.509277Z",
     "start_time": "2020-05-02T14:21:14.494250Z"
    }
   },
   "outputs": [],
   "source": [
    "gmaps.configure(api_key=api_key)"
   ]
  },
  {
   "cell_type": "code",
   "execution_count": 57,
   "metadata": {
    "ExecuteTime": {
     "end_time": "2020-05-02T14:21:16.360088Z",
     "start_time": "2020-05-02T14:21:16.346660Z"
    }
   },
   "outputs": [],
   "source": [
    "import gmaps\n",
    "gmaps.configure(api_key=api_key)"
   ]
  },
  {
   "cell_type": "code",
   "execution_count": 58,
   "metadata": {
    "ExecuteTime": {
     "end_time": "2020-05-02T14:21:16.780814Z",
     "start_time": "2020-05-02T14:21:16.703527Z"
    }
   },
   "outputs": [
    {
     "data": {
      "application/vnd.jupyter.widget-view+json": {
       "model_id": "83bc5995156b4d48b40d8bd1f37fdf6b",
       "version_major": 2,
       "version_minor": 0
      },
      "text/plain": [
       "Figure(layout=FigureLayout(height='420px'))"
      ]
     },
     "metadata": {},
     "output_type": "display_data"
    }
   ],
   "source": [
    "new_york_coordinates = (40.75, -74.00)\n",
    "gmaps.figure(center=new_york_coordinates, zoom_level=12)"
   ]
  },
  {
   "cell_type": "code",
   "execution_count": 59,
   "metadata": {
    "ExecuteTime": {
     "end_time": "2020-05-02T14:21:28.944738Z",
     "start_time": "2020-05-02T14:21:26.675106Z"
    }
   },
   "outputs": [
    {
     "name": "stdout",
     "output_type": "stream",
     "text": [
      "Enable an nbextension in frontend configuration.\n",
      "\n",
      "Usage\n",
      "    jupyter nbextension enable [--system|--sys-prefix]\n",
      "\n",
      "Options\n",
      "\n",
      "-------\n",
      "\n",
      "\n",
      "\n",
      "Arguments that take values are actually convenience aliases to full\n",
      "Configurables, whose aliases are listed on the help line. For more information\n",
      "on full configurables, see '--help-all'.\n",
      "\n",
      "\n",
      "--debug\n",
      "\n",
      "    set log level to logging.DEBUG (maximize logging output)\n",
      "\n",
      "--user\n",
      "\n",
      "    Apply the operation only for the given user\n",
      "\n",
      "--system\n",
      "\n",
      "    Apply the operation system-wide\n",
      "\n",
      "--sys-prefix\n",
      "\n",
      "    Use sys.prefix as the prefix for installing nbextensions (for environments, packaging)\n",
      "\n",
      "--py\n",
      "\n",
      "    Install from a Python package\n",
      "\n",
      "--python\n",
      "\n",
      "    Install from a Python package\n",
      "--section=<Unicode> (ToggleNBExtensionApp.section)\n",
      "\n",
      "    Default: 'notebook'\n",
      "\n",
      "    Which config section to add the extension to, 'common' will affect all\n",
      "\n",
      "    pages.\n",
      "\n",
      "To see all available configurables, use `--help-all`\n",
      "\n"
     ]
    },
    {
     "name": "stderr",
     "output_type": "stream",
     "text": [
      "Bad config encountered during initialization:\n",
      "Invalid argument: '-'\n"
     ]
    }
   ],
   "source": [
    "!jupyter nbextension enable - -py - -sys-prefix widgetsnbextension"
   ]
  },
  {
   "cell_type": "code",
   "execution_count": 60,
   "metadata": {
    "ExecuteTime": {
     "end_time": "2020-05-02T14:21:33.766871Z",
     "start_time": "2020-05-02T14:21:28.992377Z"
    }
   },
   "outputs": [
    {
     "name": "stderr",
     "output_type": "stream",
     "text": [
      "Enabling notebook extension jupyter-gmaps/extension...\n",
      "      - Validating: ok\n"
     ]
    }
   ],
   "source": [
    "!jupyter nbextension enable --py --sys-prefix gmaps"
   ]
  },
  {
   "cell_type": "code",
   "execution_count": 61,
   "metadata": {
    "ExecuteTime": {
     "end_time": "2020-05-02T14:21:48.504665Z",
     "start_time": "2020-05-02T14:21:42.591624Z"
    }
   },
   "outputs": [
    {
     "data": {
      "application/vnd.jupyter.widget-view+json": {
       "model_id": "812c6865be9545b2b679b8dc513602a2",
       "version_major": 2,
       "version_minor": 0
      },
      "text/plain": [
       "Figure(layout=FigureLayout(height='420px'))"
      ]
     },
     "metadata": {},
     "output_type": "display_data"
    }
   ],
   "source": [
    "import gmaps\n",
    "import gmaps.datasets# Use google maps api\n",
    "gmaps.configure(api_key=api_key) # Fill in with your API key# Get the dataset\n",
    "earthquake_df = gmaps.datasets.load_dataset_as_df('earthquakes')#Get the locations from the data set\n",
    "locations = earthquake_df[['latitude', 'longitude']]#Get the magnitude from the data\n",
    "weights = earthquake_df['magnitude']#Set up your map\n",
    "fig = gmaps.figure()\n",
    "fig.add_layer(gmaps.heatmap_layer(locations, weights=weights))\n",
    "fig"
   ]
  },
  {
   "cell_type": "code",
   "execution_count": 62,
   "metadata": {
    "ExecuteTime": {
     "end_time": "2020-05-02T14:22:01.262597Z",
     "start_time": "2020-05-02T14:22:01.186599Z"
    }
   },
   "outputs": [
    {
     "data": {
      "application/vnd.jupyter.widget-view+json": {
       "model_id": "e14f587cd74244ccb21db8d39702243f",
       "version_major": 2,
       "version_minor": 0
      },
      "text/plain": [
       "Figure(layout=FigureLayout(height='420px'))"
      ]
     },
     "metadata": {},
     "output_type": "display_data"
    }
   ],
   "source": [
    "import gmaps\n",
    "#configure api\n",
    "gmaps.configure(api_key=api_key)#Define location 1 and 2\n",
    "Durango = (37.2753,-107.880067)\n",
    "SF = (37.7749,-122.419416)#Create the map\n",
    "fig = gmaps.figure()#create the layer\n",
    "layer = gmaps.directions.Directions(Durango, SF,mode='car')#Add the layer\n",
    "fig.add_layer(layer)\n",
    "fig"
   ]
  },
  {
   "cell_type": "code",
   "execution_count": null,
   "metadata": {},
   "outputs": [],
   "source": []
  }
 ],
 "metadata": {
  "hide_input": false,
  "kernelspec": {
   "display_name": "Python 3",
   "language": "python",
   "name": "python3"
  },
  "language_info": {
   "codemirror_mode": {
    "name": "ipython",
    "version": 3
   },
   "file_extension": ".py",
   "mimetype": "text/x-python",
   "name": "python",
   "nbconvert_exporter": "python",
   "pygments_lexer": "ipython3",
   "version": "3.7.4"
  },
  "toc": {
   "base_numbering": 1,
   "nav_menu": {},
   "number_sections": true,
   "sideBar": true,
   "skip_h1_title": false,
   "title_cell": "Table of Contents",
   "title_sidebar": "Contents",
   "toc_cell": false,
   "toc_position": {},
   "toc_section_display": true,
   "toc_window_display": false
  },
  "varInspector": {
   "cols": {
    "lenName": 16,
    "lenType": 16,
    "lenVar": 40
   },
   "kernels_config": {
    "python": {
     "delete_cmd_postfix": "",
     "delete_cmd_prefix": "del ",
     "library": "var_list.py",
     "varRefreshCmd": "print(var_dic_list())"
    },
    "r": {
     "delete_cmd_postfix": ") ",
     "delete_cmd_prefix": "rm(",
     "library": "var_list.r",
     "varRefreshCmd": "cat(var_dic_list()) "
    }
   },
   "types_to_exclude": [
    "module",
    "function",
    "builtin_function_or_method",
    "instance",
    "_Feature"
   ],
   "window_display": false
  }
 },
 "nbformat": 4,
 "nbformat_minor": 2
}
